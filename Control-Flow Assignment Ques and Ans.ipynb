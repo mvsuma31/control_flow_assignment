{
 "cells": [
  {
   "cell_type": "markdown",
   "id": "4ce56224-322f-46ce-b53d-600bf84606cb",
   "metadata": {},
   "source": [
    "Control Flow Assignment Questions and Answers"
   ]
  },
  {
   "cell_type": "markdown",
   "id": "a4b74c88-4a08-4535-89d2-fed2e22ac808",
   "metadata": {},
   "source": [
    "Basic Level:"
   ]
  },
  {
   "cell_type": "markdown",
   "id": "28ef8457-baca-4010-85cf-f1dae7d48cfd",
   "metadata": {},
   "source": [
    "1. Write a Python program that checks if a given number is positive, negative, or zero."
   ]
  },
  {
   "cell_type": "code",
   "execution_count": 6,
   "id": "66d4b180-5bea-4137-901b-18de6cb97b5e",
   "metadata": {},
   "outputs": [
    {
     "name": "stdin",
     "output_type": "stream",
     "text": [
      "enter the number: -15\n"
     ]
    },
    {
     "name": "stdout",
     "output_type": "stream",
     "text": [
      "the number is negative\n"
     ]
    }
   ],
   "source": [
    "num=int(input('enter the number:'))\n",
    "if num>0:\n",
    "    print('the number is positive')\n",
    "elif num<0:\n",
    "    print('the number is negative')\n",
    "else:\n",
    "    print('the number is zero')\n",
    "    "
   ]
  },
  {
   "cell_type": "markdown",
   "id": "97468c23-a9af-4297-9d8a-a9ab6170ffae",
   "metadata": {},
   "source": [
    "2. Create a program that determines if a person is eligible to vote based on their age."
   ]
  },
  {
   "cell_type": "code",
   "execution_count": 21,
   "id": "a73afe62-761d-47af-a9f1-32aaec366777",
   "metadata": {},
   "outputs": [
    {
     "name": "stdin",
     "output_type": "stream",
     "text": [
      "enter the age: 19\n",
      "enter the person name: someone\n"
     ]
    },
    {
     "name": "stdout",
     "output_type": "stream",
     "text": [
      "the person someone eligible for vote\n"
     ]
    }
   ],
   "source": [
    "age=int(input('enter the age:'))\n",
    "person=input('enter the person name:')\n",
    "if age>18:\n",
    "    print(f'the person {person} eligible for vote')\n",
    "else:\n",
    "    print(f'the person {person} not eligible for vote')\n",
    "        "
   ]
  },
  {
   "cell_type": "markdown",
   "id": "33a85e6b-fefc-4126-9d89-bd34b9f74f30",
   "metadata": {},
   "source": [
    "3. Develop a program to find the maximum of two numbers using if-else statements."
   ]
  },
  {
   "cell_type": "code",
   "execution_count": 26,
   "id": "1bb6c22d-b94d-4c05-a1b8-b91ae2a61b97",
   "metadata": {},
   "outputs": [
    {
     "name": "stdin",
     "output_type": "stream",
     "text": [
      "enter the number1 12\n",
      "enter the number2 14\n"
     ]
    },
    {
     "name": "stdout",
     "output_type": "stream",
     "text": [
      "b is maximum 14\n"
     ]
    }
   ],
   "source": [
    "a=int(input('enter the number1'))\n",
    "b=int(input('enter the number2'))\n",
    "if a>b:\n",
    "    print(f'a is maximum {a}')\n",
    "else:\n",
    "    print(f'b is maximum {b}')"
   ]
  },
  {
   "cell_type": "markdown",
   "id": "d3107a73-9a6b-442c-9adb-3bf0220d7a59",
   "metadata": {},
   "source": [
    "4. Write a Python script to classify a given year as a leap year or not."
   ]
  },
  {
   "cell_type": "code",
   "execution_count": 49,
   "id": "300206ad-79d3-4073-8ec3-3665523801dd",
   "metadata": {
    "scrolled": true
   },
   "outputs": [
    {
     "name": "stdin",
     "output_type": "stream",
     "text": [
      "enter the year: 2022\n"
     ]
    },
    {
     "name": "stdout",
     "output_type": "stream",
     "text": [
      "the year is not a leaf year\n"
     ]
    }
   ],
   "source": [
    "year=int(input('enter the year:'))\n",
    "if year%4==0:\n",
    "    print(f'the year is leaf_year {year}')\n",
    "else:\n",
    "    print('the year is not a leaf year')"
   ]
  },
  {
   "cell_type": "markdown",
   "id": "7152c234-8a9d-492a-812b-d0561fbe5218",
   "metadata": {},
   "source": [
    "5. Create a program that checks whether a character is a vowel or a consonant."
   ]
  },
  {
   "cell_type": "code",
   "execution_count": 76,
   "id": "5e1543f7-80d2-471e-add7-d2fa347a899b",
   "metadata": {},
   "outputs": [
    {
     "name": "stdin",
     "output_type": "stream",
     "text": [
      "enter the string m\n"
     ]
    },
    {
     "name": "stdout",
     "output_type": "stream",
     "text": [
      "the string m is consonant\n"
     ]
    }
   ],
   "source": [
    "char=input('enter the string')\n",
    "vowel='aeiouAEIOU'\n",
    "\n",
    "if char in vowel:\n",
    "    print(f'the string {char} is having {vowel}')\n",
    "else:\n",
    "    print(f'the string {char} is consonant')"
   ]
  },
  {
   "cell_type": "code",
   "execution_count": 72,
   "id": "3e4fa335-f0d6-41d7-9c77-15a701013e02",
   "metadata": {},
   "outputs": [
    {
     "name": "stdin",
     "output_type": "stream",
     "text": [
      "Enter a character:  u\n"
     ]
    },
    {
     "name": "stdout",
     "output_type": "stream",
     "text": [
      "u is a vowel.\n"
     ]
    }
   ],
   "source": [
    "def check_vowel_or_consonant(char):\n",
    "    vowels = 'aeiouAEIOU'\n",
    "    if char in vowels:\n",
    "        return f\"{char} is a vowel.\"\n",
    "    elif char.isalpha():\n",
    "        return f\"{char} is a consonant.\"\n",
    "    else:\n",
    "        return f\"{char} is not a valid alphabet character.\"\n",
    "\n",
    "# Example usage\n",
    "character = input(\"Enter a character: \")\n",
    "result = check_vowel_or_consonant(character)\n",
    "print(result)"
   ]
  },
  {
   "cell_type": "markdown",
   "id": "e67cd0f8-ad65-4b44-bf2e-37b870e94699",
   "metadata": {},
   "source": [
    "6. Implement a program to determine whether a given number is even or odd."
   ]
  },
  {
   "cell_type": "code",
   "execution_count": 83,
   "id": "689af0b1-e3b1-474c-b37b-ce318e1032d4",
   "metadata": {},
   "outputs": [
    {
     "name": "stdin",
     "output_type": "stream",
     "text": [
      "enter the number: 22\n"
     ]
    },
    {
     "name": "stdout",
     "output_type": "stream",
     "text": [
      "the num is even number 22\n"
     ]
    }
   ],
   "source": [
    "num=int(input('enter the number:'))\n",
    "if num%2==0:\n",
    "    print(f'the num is even number {num}')\n",
    "else:\n",
    "    print('the number is odd number')\n"
   ]
  },
  {
   "cell_type": "markdown",
   "id": "9852586f-a73c-44c4-ae13-b6ffdb7a6cec",
   "metadata": {},
   "source": [
    "7. Write a Python function to calculate the absolute value of a number without using the `abs()` function."
   ]
  },
  {
   "cell_type": "code",
   "execution_count": 88,
   "id": "1a5f637c-027f-4d42-9c15-233a7f5a273d",
   "metadata": {},
   "outputs": [
    {
     "name": "stdin",
     "output_type": "stream",
     "text": [
      "enter the number -2\n"
     ]
    },
    {
     "name": "stdout",
     "output_type": "stream",
     "text": [
      "the number is positive: 2\n"
     ]
    }
   ],
   "source": [
    "num=int(input('enter the number'))\n",
    "if num<0:\n",
    "    print('the number is positive:',num*-1)\n",
    "else:\n",
    "    print('the number is:', num*1)\n"
   ]
  },
  {
   "cell_type": "markdown",
   "id": "c1f6b3cb-82a6-4f77-98c6-7ddfce922c6b",
   "metadata": {},
   "source": [
    "8. Develop a program that determines the largest of three given numbers using if-else statements."
   ]
  },
  {
   "cell_type": "code",
   "execution_count": 95,
   "id": "d7906eca-3100-436c-a57d-db95ad8ef464",
   "metadata": {},
   "outputs": [
    {
     "name": "stdin",
     "output_type": "stream",
     "text": [
      "enter the number1: 20\n",
      "enter the number2: 65\n",
      "enter the number3: 45\n"
     ]
    },
    {
     "name": "stdout",
     "output_type": "stream",
     "text": [
      "the largest number is num2 65\n"
     ]
    }
   ],
   "source": [
    "num1=int(input('enter the number1:'))\n",
    "num2=int(input('enter the number2:'))\n",
    "num3=int(input('enter the number3:'))\n",
    "if (num1>=num2) and (num1>=num3):\n",
    "    print('the largest number is num1', num1)\n",
    "elif (num2>=num1) and (num2>=num3):\n",
    "    print('the largest number is num2',num2)\n",
    "else:\n",
    "    print('the largest number is num3:',num3)"
   ]
  },
  {
   "cell_type": "markdown",
   "id": "20dfefed-c8c0-47e5-99b4-9f843945c1a5",
   "metadata": {},
   "source": [
    "9. Create a program that checks if a given string is a palindrome."
   ]
  },
  {
   "cell_type": "code",
   "execution_count": 100,
   "id": "bbe4f0de-4b7d-4478-88df-1d276b8cf432",
   "metadata": {},
   "outputs": [
    {
     "name": "stdin",
     "output_type": "stream",
     "text": [
      "enter the string: suma\n"
     ]
    },
    {
     "name": "stdout",
     "output_type": "stream",
     "text": [
      "the strig is not palindrome.\n"
     ]
    }
   ],
   "source": [
    "str=input('enter the string:')\n",
    "if str==str[::-1]:\n",
    "    print('the string is palindrome.')\n",
    "else:\n",
    "    \n",
    "    print('the strig is not palindrome.')"
   ]
  },
  {
   "cell_type": "markdown",
   "id": "70f2fcb0-3cc6-427b-b94f-9dcfaa8b6de3",
   "metadata": {},
   "source": [
    "10. Write a Python program to calculate the grade based on a student's score."
   ]
  },
  {
   "cell_type": "code",
   "execution_count": 103,
   "id": "b57a0920-becf-4bc2-85dc-0c9b7a5c6247",
   "metadata": {},
   "outputs": [
    {
     "name": "stdin",
     "output_type": "stream",
     "text": [
      "the secore value: 78\n"
     ]
    },
    {
     "name": "stdout",
     "output_type": "stream",
     "text": [
      "the grade is firstclass\n"
     ]
    }
   ],
   "source": [
    "score=float(input('the secore value:'))\n",
    "if score>=90:\n",
    "    print('the grade is A')\n",
    "elif score>=80:\n",
    "    print('the grade is B')\n",
    "elif score>=70:\n",
    "    print('the grade is firstclass')\n",
    "elif score>=60:\n",
    "    print('the grade is pass')\n",
    "else:\n",
    "    print('the grade is qualify')\n",
    "    "
   ]
  },
  {
   "cell_type": "markdown",
   "id": "7abb0fda-b3a9-42df-a78d-744cf1ddb74e",
   "metadata": {},
   "source": [
    "11. Write a program to find the largest among three numbers using nested if-else statements."
   ]
  },
  {
   "cell_type": "code",
   "execution_count": 106,
   "id": "9a6b021c-9ba4-409b-bc33-11f365223f0a",
   "metadata": {},
   "outputs": [
    {
     "name": "stdin",
     "output_type": "stream",
     "text": [
      "enter the number1: 34\n",
      "enter the number2: 32\n",
      "enter the number3: 43\n"
     ]
    },
    {
     "name": "stdout",
     "output_type": "stream",
     "text": [
      "the largest number is num3: 43\n"
     ]
    }
   ],
   "source": [
    "num1=int(input('enter the number1:'))\n",
    "num2=int(input('enter the number2:'))\n",
    "num3=int(input('enter the number3:'))\n",
    "if (num1>=num2) and (num1>=num3):\n",
    "    print('the largest number is num1', num1)\n",
    "elif (num2>=num1) and (num2>=num3):\n",
    "    print('the largest number is num2',num2)\n",
    "else:\n",
    "    print('the largest number is num3:',num3)"
   ]
  },
  {
   "cell_type": "markdown",
   "id": "52030d54-8407-408e-80a8-bcbf6484d48d",
   "metadata": {},
   "source": [
    "12. Implement a program to determine if a triangle is equilateral, isosceles, or scalene."
   ]
  },
  {
   "cell_type": "code",
   "execution_count": 113,
   "id": "efb6dd6f-4629-45d2-94d7-7b00a3507785",
   "metadata": {},
   "outputs": [
    {
     "name": "stdin",
     "output_type": "stream",
     "text": [
      "enter the side1: 32\n",
      "enter the side2: 23\n",
      "enter the side3: 321\n"
     ]
    },
    {
     "name": "stdout",
     "output_type": "stream",
     "text": [
      "the traingle is scalene\n"
     ]
    }
   ],
   "source": [
    "a=int(input('enter the side1:'))\n",
    "b=int(input('enter the side2:'))\n",
    "c=int(input('enter the side3:'))\n",
    "if a==b==c:\n",
    "    print('the traingle is equilateral')\n",
    "elif a==b or b==c or c==a:\n",
    "    print(' the traingle is isosceles')\n",
    "else:\n",
    "    print('the traingle is scalene')"
   ]
  },
  {
   "cell_type": "markdown",
   "id": "01674a30-b3d5-403d-8847-1547a511aa3f",
   "metadata": {},
   "source": [
    "13. Develop a program that checks if a year is a leap year and also if it is a century year"
   ]
  },
  {
   "cell_type": "code",
   "execution_count": 130,
   "id": "e9c442d1-316f-49ec-a1e1-03538885f530",
   "metadata": {},
   "outputs": [
    {
     "name": "stdin",
     "output_type": "stream",
     "text": [
      "enter the year 2000\n"
     ]
    },
    {
     "name": "stdout",
     "output_type": "stream",
     "text": [
      "the year is leaf year\n"
     ]
    }
   ],
   "source": [
    "year=int(input('enter the year'))\n",
    "if (year%4==0 or year%100!=0) and year%400==0:\n",
    "    print('the year is leaf year')\n",
    "elif (year%100==0):\n",
    "    print('the year is a centuary year')\n",
    "else:\n",
    "    print(' the year is normal')"
   ]
  },
  {
   "cell_type": "markdown",
   "id": "3b76a000-fb85-47da-8277-6b1907cf0af7",
   "metadata": {},
   "source": [
    "14. Write a Python script to determine if a number is positive, negative, or zero"
   ]
  },
  {
   "cell_type": "code",
   "execution_count": 133,
   "id": "374d9d3a-d8bd-460e-91c7-c15f083acc76",
   "metadata": {},
   "outputs": [
    {
     "name": "stdin",
     "output_type": "stream",
     "text": [
      "enter the number: -34\n"
     ]
    },
    {
     "name": "stdout",
     "output_type": "stream",
     "text": [
      "the number is negative\n"
     ]
    }
   ],
   "source": [
    "num=int(input('enter the number:'))\n",
    "if num>0:\n",
    "    print('the number is positive')\n",
    "elif num<0:\n",
    "    print('the number is negative')\n",
    "else:\n",
    "    print('the number is zero')"
   ]
  },
  {
   "cell_type": "markdown",
   "id": "3bedae46-8d03-4395-b91f-97bdac6d8a77",
   "metadata": {},
   "source": [
    "15. Create a program to check if a person is a teenager (between 13 and 19 years old)."
   ]
  },
  {
   "cell_type": "code",
   "execution_count": 138,
   "id": "b4f022d4-efca-4d6a-afc7-ee95c75f9dc9",
   "metadata": {},
   "outputs": [
    {
     "name": "stdin",
     "output_type": "stream",
     "text": [
      "enter the age: 20\n"
     ]
    },
    {
     "name": "stdout",
     "output_type": "stream",
     "text": [
      "the person is not a teenager\n"
     ]
    }
   ],
   "source": [
    "age=int(input('enter the age:'))\n",
    "if (age > 13 and age <19):\n",
    "    print('the person is a teenager')\n",
    "else:\n",
    "    print('the person is not a teenager')\n",
    "    "
   ]
  },
  {
   "cell_type": "markdown",
   "id": "74e8b224-4e1e-43ac-9dfe-443d12db855b",
   "metadata": {},
   "source": [
    "16. Develop a program that determines the type of angle based on its measure (acute, obtuse, or right)."
   ]
  },
  {
   "cell_type": "code",
   "execution_count": 153,
   "id": "b87f61b9-c996-43d4-a6f4-fb0151dbd5e1",
   "metadata": {},
   "outputs": [
    {
     "name": "stdin",
     "output_type": "stream",
     "text": [
      "enter the measure: 190\n"
     ]
    },
    {
     "name": "stdout",
     "output_type": "stream",
     "text": [
      "the angle is straight\n"
     ]
    }
   ],
   "source": [
    "measure=int(input('enter the measure:'))\n",
    "if measure<90:\n",
    "    print('the angle is acute angle')\n",
    "elif measure==90:\n",
    "    print('the angle is right angle')\n",
    "elif (measure >90 and measure <180):\n",
    "    print('the angle is obtus angle')\n",
    "else: \n",
    "    print('the angle is straight')"
   ]
  },
  {
   "cell_type": "markdown",
   "id": "38c82c58-aa3f-4f6c-91d2-f597fcc6e7b9",
   "metadata": {},
   "source": [
    "17. Write a Python program to calculate the roots of a quadratic equation"
   ]
  },
  {
   "cell_type": "code",
   "execution_count": 157,
   "id": "5b2daf7e-018a-4a4b-a10d-48ba3af8fdec",
   "metadata": {},
   "outputs": [
    {
     "name": "stdout",
     "output_type": "stream",
     "text": [
      "real and different roots\n",
      "2.0\n",
      "-12.0\n"
     ]
    }
   ],
   "source": [
    "\n",
    "import math \n",
    "def equationroots( a, b, c): \n",
    "\n",
    "    # calculating discriminant using formula\n",
    "    dis = b * b - 4 * a * c \n",
    "    sqrt_val = math.sqrt(abs(dis)) \n",
    "    \n",
    "    # checking condition for discriminant\n",
    "    if dis > 0: \n",
    "        print(\"real and different roots\") \n",
    "        print((-b + sqrt_val)/(2 * a)) \n",
    "        print((-b - sqrt_val)/(2 * a)) \n",
    "    \n",
    "    elif dis == 0: \n",
    "        print(\"real and same roots\") \n",
    "        print(-b / (2 * a)) \n",
    "    \n",
    "    # when discriminant is less than 0\n",
    "    else:\n",
    "        print(\"Complex Roots\") \n",
    "        print(- b / (2 * a), + i, sqrt_val / (2 * a)) \n",
    "        print(- b / (2 * a), - i, sqrt_val / (2 * a)) \n",
    "\n",
    "# Driver Program \n",
    "a = 1\n",
    "b = 10\n",
    "c = -24\n",
    "\n",
    "# If a is 0, then incorrect equation\n",
    "if a == 0: \n",
    "        print(\"Input correct quadratic equation\") \n",
    "\n",
    "else:\n",
    "    equationroots(a, b, c)"
   ]
  },
  {
   "cell_type": "markdown",
   "id": "14903ed6-1f9a-4267-bb9e-3d1eff1641c4",
   "metadata": {},
   "source": [
    "18. Implement a program to determine the day of the week based on a user-provided number (1 for Monday, 2 \n",
    "for Tuesday, etc.)."
   ]
  },
  {
   "cell_type": "code",
   "execution_count": 160,
   "id": "75e0380e-5270-47c9-968c-e427a450a424",
   "metadata": {},
   "outputs": [
    {
     "name": "stdin",
     "output_type": "stream",
     "text": [
      "Enter a number (1 for Monday, 2 for Tuesday, etc.):  5\n"
     ]
    },
    {
     "name": "stdout",
     "output_type": "stream",
     "text": [
      "Friday\n"
     ]
    }
   ],
   "source": [
    "# Define a dictionary to map numbers to days of the week\n",
    "days_of_week = { 1: \"Monday\",2: \"Tuesday\",3: \"Wednesday\",4: \"Thursday\",5: \"Friday\",6: \"Saturday\",7: \"Sunday\"}\n",
    "\n",
    "# Get user input\n",
    "user_input = int(input(\"Enter a number (1 for Monday, 2 for Tuesday, etc.): \"))\n",
    "\n",
    "# Determine the day of the week\n",
    "day = days_of_week.get(user_input, \"Invalid number. Please enter a number between 1 and 7.\")\n",
    "\n",
    "# Print the result\n",
    "print(day)"
   ]
  },
  {
   "cell_type": "markdown",
   "id": "003ead87-56d5-4af7-b07f-6bd1ce40fb4f",
   "metadata": {},
   "source": [
    "19. Create a program that determines if a year is a leap year and also if it is evenly divisible by 400."
   ]
  },
  {
   "cell_type": "code",
   "execution_count": 167,
   "id": "3c784399-0913-4ee6-bb0d-eb798d33fb27",
   "metadata": {},
   "outputs": [
    {
     "name": "stdin",
     "output_type": "stream",
     "text": [
      "enter the year 2022\n"
     ]
    },
    {
     "name": "stdout",
     "output_type": "stream",
     "text": [
      "the year is normal\n"
     ]
    }
   ],
   "source": [
    "year=int(input('enter the year'))\n",
    "if (year%4==0  and year%400==0):\n",
    "    print('the year is leaf year')\n",
    "else:\n",
    "    print('the year is normal')"
   ]
  },
  {
   "cell_type": "markdown",
   "id": "224ac766-3a49-4901-8d0d-8927ad751d9e",
   "metadata": {},
   "source": [
    "20. Develop a program that checks if a given number is prime or not using nested if-else statements."
   ]
  },
  {
   "cell_type": "code",
   "execution_count": 204,
   "id": "27cb7382-c7fc-45f1-9512-1ed1bfe93fd7",
   "metadata": {},
   "outputs": [
    {
     "name": "stdin",
     "output_type": "stream",
     "text": [
      "enter the number: 40\n"
     ]
    },
    {
     "name": "stdout",
     "output_type": "stream",
     "text": [
      "the number is not a prime\n"
     ]
    }
   ],
   "source": [
    "num=int(input('enter the number:'))\n",
    "if num >1:\n",
    "    for i in range(2,int(num**0.5)+1):\n",
    "         if (num%i)==0:\n",
    "             print('the number is not a prime')\n",
    "             break\n",
    "    else:\n",
    "         print('the number is a prime')\n",
    "else:\n",
    "    print('the number is not a prime')\n"
   ]
  },
  {
   "cell_type": "code",
   "execution_count": 193,
   "id": "5f5bb5fe-2ef3-4942-a812-d284d06f39d2",
   "metadata": {},
   "outputs": [
    {
     "name": "stdin",
     "output_type": "stream",
     "text": [
      "Enter a number:  40\n"
     ]
    },
    {
     "name": "stdout",
     "output_type": "stream",
     "text": [
      "40 is not a prime number.\n"
     ]
    }
   ],
   "source": [
    "def is_prime(number):\n",
    "    if number <= 1:\n",
    "        return False\n",
    "    else:\n",
    "        if number == 2:\n",
    "            return True\n",
    "        else:\n",
    "            for i in range(2, int(number ** 0.5) + 1):\n",
    "                if number % i == 0:\n",
    "                    return False\n",
    "            return True\n",
    "\n",
    "# Example usage\n",
    "num = int(input(\"Enter a number: \"))\n",
    "if is_prime(num):\n",
    "    print(f\"{num} is a prime number.\")\n",
    "else:\n",
    "    print(f\"{num} is not a prime number.\")\n"
   ]
  },
  {
   "cell_type": "markdown",
   "id": "df849b47-7bf4-420a-8773-dfb3b227693b",
   "metadata": {},
   "source": [
    " \n",
    "\n",
    "21. Write a Python program to assign grades based on different ranges of scores using elif statements."
   ]
  },
  {
   "cell_type": "code",
   "execution_count": null,
   "id": "0d297925-6633-4f28-8d84-13b5d478874d",
   "metadata": {},
   "outputs": [],
   "source": [
    "# Ans : Repeated "
   ]
  },
  {
   "cell_type": "markdown",
   "id": "7d1eb152-dff4-4ea2-baff-a56dbcfba724",
   "metadata": {},
   "source": [
    "22. Implement a program to determine the type of a triangle based on its angles."
   ]
  },
  {
   "cell_type": "code",
   "execution_count": 215,
   "id": "7a450d04-79fa-4896-a5bf-b4de26ffe20e",
   "metadata": {},
   "outputs": [],
   "source": [
    "#Ans: Repeated"
   ]
  },
  {
   "cell_type": "markdown",
   "id": "7c2825ef-0fd3-424f-b777-02763b9acfcc",
   "metadata": {},
   "source": [
    "23. Develop a program to categorize a given person's BMI into underweight, normal, overweight, or obese using \n",
    "elif statements."
   ]
  },
  {
   "cell_type": "code",
   "execution_count": 218,
   "id": "a9070f5e-346f-487e-80f9-493ee7f016af",
   "metadata": {},
   "outputs": [
    {
     "name": "stdin",
     "output_type": "stream",
     "text": [
      "Please enter your height in inches:  64.8\n",
      "Please enter your weight in pound:  212\n"
     ]
    },
    {
     "name": "stdout",
     "output_type": "stream",
     "text": [
      "Your Body Mass Index is:  35.49\n",
      "Obese.\n"
     ]
    }
   ],
   "source": [
    "Height = float(input(\"Please enter your height in inches: \"))\n",
    "Weight = float(input(\"Please enter your weight in pound: \"))\n",
    "BMIIndex = round(Weight / (Height * Height) * 703, 2)\n",
    "print(\"Your Body Mass Index is: \", BMIIndex)\n",
    "if Height <= 0 or Weight <= 0:\n",
    "    print(\"Your input must not be zero or less.\")\n",
    "elif BMIIndex < 18.5:\n",
    "    print(\"Underweight.\")\n",
    "elif BMIIndex <= 24.9:\n",
    "    print(\"Normal.\")\n",
    "elif BMIIndex <= 29.9:\n",
    "    print(\"Overweight.\")\n",
    "else:\n",
    "     print(\"Obese.\")\n",
    "   "
   ]
  },
  {
   "cell_type": "markdown",
   "id": "2237b7da-00ff-49c0-bddd-24a023a4d0b0",
   "metadata": {},
   "source": [
    "24. Create a program that determines whether a given number is positive, negative, or zero using elif \n",
    "statements."
   ]
  },
  {
   "cell_type": "code",
   "execution_count": 221,
   "id": "45a13143-22bb-4d3f-8e19-3831577113e6",
   "metadata": {},
   "outputs": [],
   "source": [
    "#Ans: Repeated multiple times"
   ]
  },
  {
   "cell_type": "markdown",
   "id": "f5a17821-e0bc-4a22-bf15-15c34757614e",
   "metadata": {},
   "source": [
    "25. Write a Python script to determine the type of a character (uppercase, lowercase, or special) using elif \n",
    "statements."
   ]
  },
  {
   "cell_type": "code",
   "execution_count": 235,
   "id": "cd79369c-aa0e-46fa-91c3-9f07a72c80c6",
   "metadata": {},
   "outputs": [
    {
     "name": "stdin",
     "output_type": "stream",
     "text": [
      "Please enter char:  uadDSL\n"
     ]
    },
    {
     "name": "stdout",
     "output_type": "stream",
     "text": [
      "the characters are not a lower or upper\n"
     ]
    }
   ],
   "source": [
    "chr = input(\"Please enter char: \")\n",
    "if chr.islower():\n",
    "    print('the characters are lowercase')\n",
    "elif chr.isupper():\n",
    "    print('the characters are uppercase')\n",
    "else:\n",
    "    print('the characters are not a lower or upper')"
   ]
  },
  {
   "cell_type": "markdown",
   "id": "51728a9f-8b3a-453e-b01e-e3dadb8b2f71",
   "metadata": {},
   "source": [
    "26. Implement a program to calculate the discounted price based on different purchase amounts using elif \n",
    "statements."
   ]
  },
  {
   "cell_type": "code",
   "execution_count": 240,
   "id": "62dd0a69-2a46-428d-9ed8-5dd175859ac4",
   "metadata": {},
   "outputs": [
    {
     "name": "stdin",
     "output_type": "stream",
     "text": [
      "Please enter marked price:  120\n",
      "Please enter selling price:  100\n"
     ]
    },
    {
     "name": "stdout",
     "output_type": "stream",
     "text": [
      "16.666666666666664\n"
     ]
    }
   ],
   "source": [
    "marked_p=float(input(\"Please enter marked price: \"))\n",
    "selling_p=float(input(\"Please enter selling price: \"))\n",
    "discount=marked_p-selling_p\n",
    "discount_per=(discount/marked_p)*100\n",
    "print(discount_per)"
   ]
  },
  {
   "cell_type": "code",
   "execution_count": 244,
   "id": "8c2151b4-3764-4ae1-b832-ef62eb8e8e4d",
   "metadata": {},
   "outputs": [
    {
     "name": "stdin",
     "output_type": "stream",
     "text": [
      "Please enter a total_cost: 500\n"
     ]
    },
    {
     "name": "stdout",
     "output_type": "stream",
     "text": [
      "You have won a discount by 15 percent\n",
      "Now the total cost is  425.0\n"
     ]
    }
   ],
   "source": [
    "total_cost = int(input('Please enter a total_cost:'))\n",
    "if total_cost>=500:    \n",
    "\n",
    "   print(\"You have won a discount by 15 percent\")\n",
    "   total_cost *= 0.85\n",
    "\n",
    "\n",
    "\n",
    "elif total_cost>100:\n",
    "\n",
    "   print(\"You have won a discount by 10 percent\")\n",
    "   total_cost *= 0.9\n",
    "\n",
    "\n",
    "\n",
    "elif total_cost>=50:\n",
    "\n",
    "   print(\"You have won a discount by 5 percent\")\n",
    "   total_cost *= 0.95\n",
    "\n",
    "else:\n",
    "   print ('you total cost is not in the range of discount!')\n",
    "print ('Now the total cost is ', total_cost)"
   ]
  },
  {
   "cell_type": "markdown",
   "id": "aafa5221-dbcc-4f9d-8879-be5d75c61bde",
   "metadata": {},
   "source": [
    "27. Develop a program to calculate the electricity bill based on different consumption slabs using elif \n",
    "statements."
   ]
  },
  {
   "cell_type": "code",
   "execution_count": 255,
   "id": "0f59c337-7023-4851-af2d-2cbd70a5e9e6",
   "metadata": {},
   "outputs": [
    {
     "name": "stdin",
     "output_type": "stream",
     "text": [
      "enter the unit value 400\n"
     ]
    },
    {
     "name": "stdout",
     "output_type": "stream",
     "text": [
      "7000\n"
     ]
    }
   ],
   "source": [
    "units=int(input('enter the unit value') )\n",
    "if (units <= 100):\n",
    "     print(units * 10)\n",
    "elif (units <= 200):\n",
    "     print((100 * 10)+(units-100)* 15) \n",
    "elif (units <= 300):\n",
    "     print((100 * 10) +(100 * 15) +(units - 200) * 20)\n",
    "elif (units > 300):\n",
    "     print ((100 * 10)+(100 * 15) +(100 * 20) +(units - 300) * 25)\n",
    "else:\n",
    "    print(0)\n",
    "     "
   ]
  },
  {
   "cell_type": "markdown",
   "id": "a1979373-ea1b-4dd8-a7ef-24a74e985eac",
   "metadata": {},
   "source": [
    "28. Create a program to determine the type of quadrilateral based on its angles and sides using elif \n",
    "statements"
   ]
  },
  {
   "cell_type": "code",
   "execution_count": 262,
   "id": "5815928e-4974-4c30-bb00-ab759a04c951",
   "metadata": {},
   "outputs": [
    {
     "name": "stdout",
     "output_type": "stream",
     "text": [
      "Square\n"
     ]
    }
   ],
   "source": [
    "def determine_quadrilateral(a, b, c, d, A, B, C, D):\n",
    "    if a == b == c == d and A == B == C == D == 90:\n",
    "        return \"Square\"\n",
    "    elif a == c and b == d and A == B == C == D == 90:\n",
    "        return \"Rectangle\"\n",
    "    elif a == c and b == d and A == C and B == D:\n",
    "        return \"Rhombus\"\n",
    "    elif a == c and b == d:\n",
    "        return \"Parallelogram\"\n",
    "    elif A == C and B == D:\n",
    "        return \"Trapezoid\"\n",
    "    else:\n",
    "        return \"Irregular Quadrilateral\"\n",
    "# Example usage:\n",
    "a, b, c, d = 5, 5, 5, 5\n",
    "A, B, C, D = 90, 90, 90, 90\n",
    "print(determine_quadrilateral(a, b, c, d, A, B, C, D)) "
   ]
  },
  {
   "cell_type": "markdown",
   "id": "848ca340-a745-4329-bc3c-dfc099a2d39c",
   "metadata": {},
   "source": [
    "29. Write a Python script to determine the season based on a user-provided month using elif statements."
   ]
  },
  {
   "cell_type": "code",
   "execution_count": 265,
   "id": "6d5b1327-5329-482f-9871-be1c2997a7f4",
   "metadata": {},
   "outputs": [
    {
     "name": "stdin",
     "output_type": "stream",
     "text": [
      "Input the month (e.g. January, February etc.):  March\n",
      "Input the day:  10\n"
     ]
    },
    {
     "name": "stdout",
     "output_type": "stream",
     "text": [
      "Season is winter\n"
     ]
    }
   ],
   "source": [
    "# Request input from the user for the name of the month and assign it to the variable 'month'\n",
    "month = input(\"Input the month (e.g. January, February etc.): \")\n",
    "\n",
    "# Request input from the user for the day and convert it to an integer, assigning it to the variable 'day'\n",
    "day = int(input(\"Input the day: \"))\n",
    "\n",
    "# Check the input 'month' to determine the season based on the month and day provided\n",
    "\n",
    "# Check if the input month falls within the winter season\n",
    "if month in ('January', 'February', 'March'):\n",
    "    season = 'winter'\n",
    "# Check if the input month falls within the spring season\n",
    "elif month in ('April', 'May', 'June'):\n",
    "    season = 'spring'\n",
    "# Check if the input month falls within the summer season\n",
    "elif month in ('July', 'August', 'September'):\n",
    "    season = 'summer'\n",
    "# For other months, assign the season as autumn by default\n",
    "else:\n",
    "    season = 'autumn'\n",
    "\n",
    "# Adjust the season based on the specific day within certain months\n",
    "\n",
    "# Check if the input month is March and the day is after March 19, updating the season to spring\n",
    "if (month == 'March') and (day > 19):\n",
    "    season = 'spring'\n",
    "# Check if the input month is June and the day is after June 20, updating the season to summer\n",
    "elif (month == 'June') and (day > 20):\n",
    "    season = 'summer'\n",
    "# Check if the input month is September and the day is after September 21, updating the season to autumn\n",
    "elif (month == 'September') and (day > 21):\n",
    "    season = 'autumn'\n",
    "# Check if the input month is December and the day is after December 20, updating the season to winter\n",
    "elif (month == 'December') and (day > 20):\n",
    "    season = 'winter'\n",
    "\n",
    "# Display the determined season based on the provided month and day\n",
    "print(\"Season is\", season) "
   ]
  },
  {
   "cell_type": "markdown",
   "id": "74b8a10f-adc2-4e7d-8960-513aa29b64c4",
   "metadata": {},
   "source": [
    "30. Implement a program to determine the type of a year (leap or common) and month (30 or 31 days) using \n",
    "elif statements."
   ]
  },
  {
   "cell_type": "code",
   "execution_count": 274,
   "id": "7c08e6ac-471c-4158-8660-13f53bc69f02",
   "metadata": {},
   "outputs": [
    {
     "name": "stdin",
     "output_type": "stream",
     "text": [
      "type a year:  2000\n"
     ]
    },
    {
     "name": "stdout",
     "output_type": "stream",
     "text": [
      "you typed in : 2000\n"
     ]
    },
    {
     "name": "stdin",
     "output_type": "stream",
     "text": [
      "type a month:  march\n"
     ]
    },
    {
     "name": "stdout",
     "output_type": "stream",
     "text": [
      "you typed in : march\n",
      "this month has 31 days\n",
      "its a leap year!\n"
     ]
    }
   ],
   "source": [
    "def cal(month):\n",
    "    if month in ['January', 'march','may','july','august','oct','dec']:\n",
    "       print (\"this month has 31 days\")\n",
    "    elif month in ['april','june','sept','nov']:\n",
    "       print (\"this month has 30 days\")\n",
    "    elif month == 'feb' and leap(year)== True:\n",
    "       print (\"this month has 29 days\")\n",
    "    elif month == 'feb' and leap(year) == False:\n",
    "        print (\"this month has 28 days\")\n",
    "    else:\n",
    "        print (\"invalid input\")   \n",
    "\n",
    "\n",
    "def leap(year):\n",
    "    if (year % 4== 0) or (year % 400 == 0):\n",
    "       print (\"its a leap year!\")\n",
    "    else: \n",
    "       print (\"is not a leap year\")\n",
    "\n",
    "year = int(input('type a year: '))\n",
    "print ('you typed in :' , year)\n",
    "month = input('type a month: ')\n",
    "print ('you typed in :', month)\n",
    "\n",
    "\n",
    "\n",
    "cal(month)\n",
    "leap(year) "
   ]
  },
  {
   "cell_type": "markdown",
   "id": "2c9104e5-0efc-4c6e-9ba1-559712a5a9b2",
   "metadata": {},
   "source": [
    "Basic Level:\n",
    "1. Write a Python program that checks if a given number is positive, negative, or zero.\n",
    "2. Create a program to determine if a person is eligible to vote based on their age.\n",
    "3. Write a program to find the maximum of two given numbers using conditional statements.\n",
    "4. Develop a program that calculates the grade of a student based on their exam score.\n",
    "5. Create a program that checks if a year is a leap year or not\n",
    "6. Write a program to classify a triangle based on its sides' lengths.\r",
    "\r\n",
    "7. Build a program that determines the largest of three given numbers\r\n",
    "\r\n",
    "8. Develop a program that checks whether a character is a vowel or a consonat.\r\n",
    "\r\n",
    "9. Create a program to calculate the total cost of a shopping cart based on disconts.\r\n",
    "\r\n",
    "10. Write a program that checks if a given number is even or odd."
   ]
  },
  {
   "cell_type": "code",
   "execution_count": null,
   "id": "8c45835a-8655-45c8-8968-042187ce10c8",
   "metadata": {},
   "outputs": [],
   "source": [
    "# all above questions repeated "
   ]
  },
  {
   "cell_type": "markdown",
   "id": "2eec2b6c-8439-4534-af32-9efb00b28a03",
   "metadata": {},
   "source": [
    " Intermediate Level:\n",
    " 11. Write a program that calculates the roots of a quadratic equation ."
   ]
  },
  {
   "cell_type": "code",
   "execution_count": 5,
   "id": "c22a5f7d-5ccf-491a-89de-f02074aa300d",
   "metadata": {},
   "outputs": [
    {
     "name": "stdout",
     "output_type": "stream",
     "text": [
      "The roots are real and different: 2.0 and 1.0\n"
     ]
    }
   ],
   "source": [
    "import math\n",
    "\n",
    "def calculate_roots(a, b, c):\n",
    "    # Calculate the discriminant\n",
    "    discriminant = b**2 - 4*a*c\n",
    "    \n",
    "    # Check if the discriminant is positive, zero, or negative\n",
    "    if discriminant > 0:\n",
    "        root1 = (-b + math.sqrt(discriminant)) / (2*a)\n",
    "        root2 = (-b - math.sqrt(discriminant)) / (2*a)\n",
    "        return f\"The roots are real and different: {root1} and {root2}\"\n",
    "    elif discriminant == 0:\n",
    "        root = -b / (2*a)\n",
    "        return f\"The roots are real and the same: {root}\"\n",
    "    else:\n",
    "        real_part = -b / (2*a)\n",
    "        imaginary_part = math.sqrt(-discriminant) / (2*a)\n",
    "        return f\"The roots are complex: {real_part} ± {imaginary_part}i\"\n",
    "\n",
    "# Example usage\n",
    "a = 1\n",
    "b = -3\n",
    "c = 2\n",
    "print(calculate_roots(a, b, c))"
   ]
  },
  {
   "cell_type": "markdown",
   "id": "fedf3813-705f-4a96-8a20-5207fd2a499a",
   "metadata": {},
   "source": [
    " 12. Create a program that determines the day of the week based on the day number (1-7)."
   ]
  },
  {
   "cell_type": "code",
   "execution_count": 8,
   "id": "afce6f87-e21c-4e2b-b740-819beec763a3",
   "metadata": {},
   "outputs": [],
   "source": [
    "# already repeated"
   ]
  },
  {
   "cell_type": "markdown",
   "id": "59c20bd1-ddd6-46fc-af14-68fa8afff7cd",
   "metadata": {},
   "source": [
    " 13. Develop a program that calculates the factorial of a given number using recursion."
   ]
  },
  {
   "cell_type": "code",
   "execution_count": 23,
   "id": "b0003d72-5413-4f59-83ae-89c6aacd4d4c",
   "metadata": {},
   "outputs": [
    {
     "name": "stdin",
     "output_type": "stream",
     "text": [
      "enter the number: 5\n"
     ]
    },
    {
     "name": "stdout",
     "output_type": "stream",
     "text": [
      "the factorial of n is: 120\n"
     ]
    }
   ],
   "source": [
    "n=int(input('enter the number:'))\n",
    "fac=1\n",
    "for i in range(1, n + 1):\n",
    "   fac*=i\n",
    "print(f'the factorial of n is: {fac}')\n",
    "      "
   ]
  },
  {
   "cell_type": "code",
   "execution_count": 47,
   "id": "e13e4f43-1e85-4f09-83ca-e36ba3ececd2",
   "metadata": {},
   "outputs": [
    {
     "name": "stdin",
     "output_type": "stream",
     "text": [
      "enter the fact number 5\n"
     ]
    },
    {
     "name": "stdout",
     "output_type": "stream",
     "text": [
      "the factorial of n is: 120\n"
     ]
    }
   ],
   "source": [
    "def factorial(n):\n",
    "   if n==0 or n==1:\n",
    "       return 1\n",
    "   else:\n",
    "      return n*factorial(n-1)\n",
    "\n",
    "num=int(input('enter the fact number'))\n",
    "print(f'the factorial of n is: {factorial(num)}')"
   ]
  },
  {
   "cell_type": "code",
   "execution_count": 49,
   "id": "f379bef0-b275-4669-97e7-1e261202dce1",
   "metadata": {},
   "outputs": [
    {
     "name": "stdout",
     "output_type": "stream",
     "text": [
      "The factorial of 5 is 120\n"
     ]
    }
   ],
   "source": [
    "def factorial(n):\n",
    "    # Base case: if n is 0 or 1, return 1\n",
    "    if n == 0 or n == 1:\n",
    "        return 1\n",
    "    # Recursive case: n * factorial of (n-1)\n",
    "    else:\n",
    "        return n * factorial(n - 1)\n",
    "\n",
    "# Example usage\n",
    "number = 5\n",
    "print(f\"The factorial of {number} is {factorial(number)}\")"
   ]
  },
  {
   "cell_type": "markdown",
   "id": "6d16e5c4-0324-421a-ade7-9f51ee927447",
   "metadata": {},
   "source": [
    " 14. Write a program to find the largest among three numbers without using the `max()` function."
   ]
  },
  {
   "cell_type": "code",
   "execution_count": 52,
   "id": "783c1c6b-46cf-40ae-bd99-1bb076e6815d",
   "metadata": {},
   "outputs": [],
   "source": [
    "# already repeated"
   ]
  },
  {
   "cell_type": "markdown",
   "id": "d3f2d8e3-9450-4164-a81f-a33df0fbc131",
   "metadata": {},
   "source": [
    " 15. Create a program that simulates a basic ATM transaction menu."
   ]
  },
  {
   "cell_type": "code",
   "execution_count": 55,
   "id": "653818f0-393a-4f0d-86a0-7d4f1025cbfb",
   "metadata": {},
   "outputs": [
    {
     "name": "stdout",
     "output_type": "stream",
     "text": [
      "\n",
      "ATM Menu:\n",
      "1. Check Balance\n",
      "2. Deposit Money\n",
      "3. Withdraw Money\n",
      "4. Exit\n"
     ]
    },
    {
     "name": "stdin",
     "output_type": "stream",
     "text": [
      "Choose an option:  1\n"
     ]
    },
    {
     "name": "stdout",
     "output_type": "stream",
     "text": [
      "Your current balance is: $100\n",
      "\n",
      "ATM Menu:\n",
      "1. Check Balance\n",
      "2. Deposit Money\n",
      "3. Withdraw Money\n",
      "4. Exit\n"
     ]
    },
    {
     "name": "stdin",
     "output_type": "stream",
     "text": [
      "Choose an option:  4\n"
     ]
    },
    {
     "name": "stdout",
     "output_type": "stream",
     "text": [
      "Thank you for using the ATM. Goodbye!\n"
     ]
    }
   ],
   "source": [
    "class ATM:\n",
    "    def __init__(self, balance=0):\n",
    "        self.balance = balance\n",
    "\n",
    "    def check_balance(self):\n",
    "        print(f\"Your current balance is: ${self.balance}\")\n",
    "\n",
    "    def deposit(self, amount):\n",
    "        if amount > 0:\n",
    "            self.balance += amount\n",
    "            print(f\"${amount} deposited successfully.\")\n",
    "        else:\n",
    "            print(\"Invalid deposit amount.\")\n",
    "\n",
    "    def withdraw(self, amount):\n",
    "        if 0 < amount <= self.balance:\n",
    "            self.balance -= amount\n",
    "            print(f\"${amount} withdrawn successfully.\")\n",
    "        else:\n",
    "            print(\"Invalid withdrawal amount or insufficient funds.\")\n",
    "\n",
    "    def menu(self):\n",
    "        while True:\n",
    "            print(\"\\nATM Menu:\")\n",
    "            print(\"1. Check Balance\")\n",
    "            print(\"2. Deposit Money\")\n",
    "            print(\"3. Withdraw Money\")\n",
    "            print(\"4. Exit\")\n",
    "            choice = input(\"Choose an option: \")\n",
    "\n",
    "            if choice == '1':\n",
    "                self.check_balance()\n",
    "            elif choice == '2':\n",
    "                amount = float(input(\"Enter deposit amount: \"))\n",
    "                self.deposit(amount)\n",
    "            elif choice == '3':\n",
    "                amount = float(input(\"Enter withdrawal amount: \"))\n",
    "                self.withdraw(amount)\n",
    "            elif choice == '4':\n",
    "                print(\"Thank you for using the ATM. Goodbye!\")\n",
    "                break\n",
    "            else:\n",
    "                print(\"Invalid choice. Please try again.\")\n",
    "\n",
    "# Create an ATM instance and display the menu\n",
    "atm = ATM(balance=100)  # Initial balance set to $100\n",
    "atm.menu()"
   ]
  },
  {
   "cell_type": "markdown",
   "id": "2e3dd187-f571-4719-9264-07d09f0d5bfa",
   "metadata": {},
   "source": [
    " 16. Build a program that checks if a given string is a palindrome or not."
   ]
  },
  {
   "cell_type": "code",
   "execution_count": 58,
   "id": "378d5dbe-ba54-49e1-a982-c048c67993ae",
   "metadata": {},
   "outputs": [],
   "source": [
    "#repeated"
   ]
  },
  {
   "cell_type": "markdown",
   "id": "34c3533b-e530-45a3-8009-536dc1a73036",
   "metadata": {},
   "source": [
    " 17. Write a program that calculates the average of a list of numbers, excluding the smallest and largest values."
   ]
  },
  {
   "cell_type": "code",
   "execution_count": 75,
   "id": "60846c84-c1c8-4a04-b440-6d2084c5fb7e",
   "metadata": {},
   "outputs": [
    {
     "name": "stdout",
     "output_type": "stream",
     "text": [
      "[10, 20, 40, 60, 70, 80]\n",
      "47.5\n"
     ]
    }
   ],
   "source": [
    "lst=[20,60,40,70,80,10]\n",
    "sort_avg=sorted(lst)\n",
    "print(sort_avg)\n",
    "exc_smlm= sort_avg[1:-1]\n",
    "avg_exc=sum(exc_smlm)/len(exc_smlm)\n",
    "print(avg_exc)\n",
    "    \n"
   ]
  },
  {
   "cell_type": "markdown",
   "id": "616cda36-79d6-4e48-b942-ef94d35d0c50",
   "metadata": {},
   "source": [
    "18. Develop a program that converts a given temperature from Celsius to Fahrenheit."
   ]
  },
  {
   "cell_type": "code",
   "execution_count": 94,
   "id": "261f3b77-3947-4fa4-a0c0-9454ae7f93ec",
   "metadata": {},
   "outputs": [
    {
     "name": "stdout",
     "output_type": "stream",
     "text": [
      "116.60 Fahrenheit\n"
     ]
    }
   ],
   "source": [
    "#F = (C * 9/5) + 32\n",
    "\n",
    "# Converting the temperature to\n",
    "# fehrenheit\n",
    "# celsius = (fahrenheit-32)/1.8\n",
    "c=47\n",
    "fahrenheit=(c*(9/5))+32\n",
    "print('%.2f Fahrenheit' %(fahrenheit))"
   ]
  },
  {
   "cell_type": "markdown",
   "id": "599c481c-d74f-48d4-97e0-261a1d1b4e1f",
   "metadata": {},
   "source": [
    "19. Create a program that simulates a basic calculator for addition, subtraction, multiplication, and division."
   ]
  },
  {
   "cell_type": "code",
   "execution_count": 97,
   "id": "f4c2e098-eba9-4957-9692-6b1710e6ae2b",
   "metadata": {},
   "outputs": [
    {
     "name": "stdout",
     "output_type": "stream",
     "text": [
      "Please select operation -\n",
      "1. Add\n",
      "2. Subtract\n",
      "3. Multiply\n",
      "4. Divide\n",
      "\n"
     ]
    },
    {
     "name": "stdin",
     "output_type": "stream",
     "text": [
      "Select operations form 1, 2, 3, 4 : 3\n",
      "Enter first number:  32\n",
      "Enter second number:  2\n"
     ]
    },
    {
     "name": "stdout",
     "output_type": "stream",
     "text": [
      "32 * 2 = 64\n"
     ]
    }
   ],
   "source": [
    "# Function to add two numbers\n",
    "def add(num1, num2):\n",
    "    return num1 + num2\n",
    "\n",
    "# Function to subtract two numbers\n",
    "def subtract(num1, num2):\n",
    "    return num1 - num2\n",
    "\n",
    "# Function to multiply two numbers\n",
    "def multiply(num1, num2):\n",
    "    return num1 * num2\n",
    "\n",
    "# Function to divide two numbers\n",
    "def divide(num1, num2):\n",
    "    return num1 / num2\n",
    "\n",
    "print(\"Please select operation -\\n\" \\\n",
    "        \"1. Add\\n\" \\\n",
    "        \"2. Subtract\\n\" \\\n",
    "        \"3. Multiply\\n\" \\\n",
    "        \"4. Divide\\n\")\n",
    "\n",
    "\n",
    "# Take input from the user\n",
    "select = int(input(\"Select operations form 1, 2, 3, 4 :\"))\n",
    "\n",
    "number_1 = int(input(\"Enter first number: \"))\n",
    "number_2 = int(input(\"Enter second number: \"))\n",
    "\n",
    "if select == 1:\n",
    "    print(number_1, \"+\", number_2, \"=\",\n",
    "                    add(number_1, number_2))\n",
    "\n",
    "elif select == 2:\n",
    "    print(number_1, \"-\", number_2, \"=\",\n",
    "                    subtract(number_1, number_2))\n",
    "\n",
    "elif select == 3:\n",
    "    print(number_1, \"*\", number_2, \"=\",\n",
    "                    multiply(number_1, number_2))\n",
    "\n",
    "elif select == 4:\n",
    "    print(number_1, \"/\", number_2, \"=\",\n",
    "                    divide(number_1, number_2))\n",
    "else:\n",
    "    print(\"Invalid input\")"
   ]
  },
  {
   "cell_type": "markdown",
   "id": "010151df-a16d-48e9-a2a8-e61f41082f0d",
   "metadata": {},
   "source": [
    "20. Write a program that determines the roots of a cubic equation using the Cardano formula."
   ]
  },
  {
   "cell_type": "code",
   "execution_count": 100,
   "id": "df133c9f-1262-40df-8f6b-9ada094046ad",
   "metadata": {},
   "outputs": [
    {
     "name": "stdout",
     "output_type": "stream",
     "text": [
      "Defaulting to user installation because normal site-packages is not writeableNote: you may need to restart the kernel to use updated packages.\n",
      "\n",
      "Collecting cardano-method\n",
      "  Downloading cardano_method-1.2.0-py3-none-any.whl.metadata (3.3 kB)\n",
      "Downloading cardano_method-1.2.0-py3-none-any.whl (6.3 kB)\n",
      "Installing collected packages: cardano-method\n",
      "Successfully installed cardano-method-1.2.0\n"
     ]
    }
   ],
   "source": [
    "pip install cardano-method"
   ]
  },
  {
   "cell_type": "code",
   "execution_count": 3,
   "id": "6d7ee04b-b792-47ec-a90b-ea09212cff18",
   "metadata": {},
   "outputs": [
    {
     "ename": "AttributeError",
     "evalue": "'CubicEquation' object has no attribute 'roots'",
     "output_type": "error",
     "traceback": [
      "\u001b[1;31m---------------------------------------------------------------------------\u001b[0m",
      "\u001b[1;31mAttributeError\u001b[0m                            Traceback (most recent call last)",
      "Cell \u001b[1;32mIn[3], line 10\u001b[0m\n\u001b[0;32m      7\u001b[0m equation \u001b[38;5;241m=\u001b[39m CubicEquation(coefficients)\n\u001b[0;32m      9\u001b[0m \u001b[38;5;66;03m# Get the roots of the equation\u001b[39;00m\n\u001b[1;32m---> 10\u001b[0m roots \u001b[38;5;241m=\u001b[39m equation\u001b[38;5;241m.\u001b[39mroots\n\u001b[0;32m     11\u001b[0m \u001b[38;5;28mprint\u001b[39m(roots)\n",
      "\u001b[1;31mAttributeError\u001b[0m: 'CubicEquation' object has no attribute 'roots'"
     ]
    }
   ],
   "source": [
    "from cardano_method import CubicEquation\n",
    "\n",
    "# Define the coefficients of the cubic equation ax^3 + bx^2 + cx + d = 0\n",
    "coefficients = [1, 3, 4, 4]  # Example coefficients\n",
    "\n",
    "# Create a CubicEquation object\n",
    "equation = CubicEquation(coefficients)\n",
    "\n",
    "# Get the roots of the equation\n",
    "roots = equation.roots\n",
    "print(roots) "
   ]
  },
  {
   "cell_type": "markdown",
   "id": "ba42eef3-3200-4d75-88c1-d402fb4c639f",
   "metadata": {},
   "source": [
    " Advanced Level:\n",
    "\n",
    " 21. Create a program that calculates the income tax based on the user's income and tax brackets."
   ]
  },
  {
   "cell_type": "code",
   "execution_count": 6,
   "id": "4268bb28-2e0e-4bfe-9c79-9715a2ce145b",
   "metadata": {},
   "outputs": [
    {
     "name": "stdout",
     "output_type": "stream",
     "text": [
      "Tax using Old Tax Slab Rates: 112500.0\n",
      "Tax using New Tax Slab Rates: 75000.0\n"
     ]
    }
   ],
   "source": [
    "def get_old_tax(salary):\n",
    "    # Lies under tax rebate limit\n",
    "    if salary <= 500000:\n",
    "        return 0\n",
    "    if salary <= 1000000:\n",
    "        return (salary - 500000) * 0.2 + (250000 * 0.05)\n",
    "    return (salary - 1000000) * 0.3 + (500000 * 0.2) + (250000 * 0.05)\n",
    "\n",
    "\n",
    "def get_new_tax(salary):\n",
    "    # lies under tax rebate limit\n",
    "    if salary <= 700000:\n",
    "        return 0\n",
    "    if salary <= 750000:\n",
    "        return (250000 * 0.05) + (salary - 500000) * 0.1\n",
    "    if salary <= 1000000:\n",
    "        return (250000 * 0.05) + (250000 * 0.10) + (salary - 750000) * 0.15\n",
    "    if salary <= 1250000:\n",
    "        return (250000 * 0.05) + (250000 * 0.10) + (250000 * 0.15) + (salary - 1000000) * 0.2\n",
    "    if salary <= 1500000:\n",
    "        return (250000 * 0.05) + (250000 * 0.10) + (250000 * 0.15) + (250000 * 0.2) + (salary - 1250000) * 0.25\n",
    "    return (250000 * 0.05) + (250000 * 0.10) + (250000 * 0.15) + (250000 * 0.2) + (250000 * 0.25) + (salary - 1500000) * 0.3\n",
    "\n",
    "\n",
    "def main():\n",
    "    salary = 1000000\n",
    "    print(\"Tax using Old Tax Slab Rates:\", get_old_tax(salary))\n",
    "    print(\"Tax using New Tax Slab Rates:\", get_new_tax(salary))\n",
    "\n",
    "\n",
    "if __name__ == \"__main__\":\n",
    "    main()"
   ]
  },
  {
   "cell_type": "code",
   "execution_count": 8,
   "id": "b3296f44-a29e-4414-8374-be01f9136a28",
   "metadata": {},
   "outputs": [
    {
     "name": "stdin",
     "output_type": "stream",
     "text": [
      "What is your annual income?  200000\n",
      "Do you have a mortgage? (yes/no)  no\n",
      "Do you have children under 10 years old? (yes/no)  no\n",
      "What’s your legal status? Select one: “single”, “married”, “divorced”, “widow”  married\n"
     ]
    },
    {
     "name": "stdout",
     "output_type": "stream",
     "text": [
      "Your calculated income tax after deductions is: 51597.0\n"
     ]
    }
   ],
   "source": [
    "# Tax rates and deductions\n",
    "tax_rate = {5: 18000, 20: 25000, 30: 40000, 35: 50000, 42: 65000}\n",
    "deduction = {'mortgage': 5, 'kids': 15, 'married': 9}\n",
    "\n",
    "# Accept user input\n",
    "income = float(input(\"What is your annual income? \"))\n",
    "has_mortgage = input(\"Do you have a mortgage? (yes/no) \")\n",
    "has_kids = input(\"Do you have children under 10 years old? (yes/no) \")\n",
    "legal_status = input(\"What’s your legal status? Select one: “single”, “married”, “divorced”, “widow” \")\n",
    "\n",
    "# Calculate income tax based on the tax rate\n",
    "for rate, threshold in sorted(tax_rate.items(), reverse=True):\n",
    "    if income > threshold:\n",
    "        tax = (income - threshold) * (rate / 100)\n",
    "        break\n",
    "else:\n",
    "    tax = 0\n",
    "\n",
    "# Apply deductions based on the user's family situation\n",
    "if has_mortgage.lower() == 'yes':\n",
    "    tax -= (tax * (deduction['mortgage'] / 100))\n",
    "\n",
    "if has_kids.lower() == 'yes':\n",
    "    tax -= (tax * (deduction['kids'] / 100))\n",
    "\n",
    "if legal_status.lower() == 'married':\n",
    "    tax -= (tax * (deduction['married'] / 100))\n",
    "\n",
    "# Display the calculated income tax\n",
    "print(f\"Your calculated income tax after deductions is: {tax}\")"
   ]
  },
  {
   "cell_type": "markdown",
   "id": "5ff52fb1-badd-4cab-8cde-23a2e92dac03",
   "metadata": {},
   "source": [
    "22. Write a program that simulates a rock-paper-scissors game against the computer."
   ]
  },
  {
   "cell_type": "code",
   "execution_count": 11,
   "id": "c5a716b3-8950-44ef-93b6-8da72307d7ed",
   "metadata": {},
   "outputs": [
    {
     "name": "stdout",
     "output_type": "stream",
     "text": [
      "Winning rules of the game ROCK PAPER SCISSORS are:\n",
      "Rock vs Paper -> Paper wins \n",
      "Rock vs Scissors -> Rock wins \n",
      "Paper vs Scissors -> Scissors wins \n",
      "\n",
      "Enter your choice \n",
      " 1 - Rock \n",
      " 2 - Paper \n",
      " 3 - Scissors \n",
      "\n"
     ]
    },
    {
     "name": "stdin",
     "output_type": "stream",
     "text": [
      "Enter your choice:  2\n"
     ]
    },
    {
     "name": "stdout",
     "output_type": "stream",
     "text": [
      "User choice is: Paper\n",
      "Now it's Computer's Turn...\n",
      "Computer choice is: Scissors\n",
      "Paper vs Scissors\n",
      "<== Computer wins! ==>\n",
      "Do you want to play again? (Y/N)\n"
     ]
    },
    {
     "name": "stdin",
     "output_type": "stream",
     "text": [
      " n\n"
     ]
    },
    {
     "name": "stdout",
     "output_type": "stream",
     "text": [
      "Thanks for playing!\n"
     ]
    }
   ],
   "source": [
    "import random\n",
    "\n",
    "# Print multiline instruction\n",
    "print('Winning rules of the game ROCK PAPER SCISSORS are:\\n'\n",
    "      + \"Rock vs Paper -> Paper wins \\n\"\n",
    "      + \"Rock vs Scissors -> Rock wins \\n\"\n",
    "      + \"Paper vs Scissors -> Scissors wins \\n\")\n",
    "\n",
    "while True:\n",
    "\n",
    "    print(\"Enter your choice \\n 1 - Rock \\n 2 - Paper \\n 3 - Scissors \\n\")\n",
    "\n",
    "    # Take the input from user\n",
    "    choice = int(input(\"Enter your choice: \"))\n",
    "\n",
    "    # Looping until user enters valid input\n",
    "    while choice > 3 or choice < 1:\n",
    "        choice = int(input('Enter a valid choice please : '))\n",
    "\n",
    "    # Initialize value of choice_name variable corresponding to the choice value\n",
    "    if choice == 1:\n",
    "        choice_name = 'Rock'\n",
    "    elif choice == 2:\n",
    "        choice_name = 'Paper'\n",
    "    else:\n",
    "        choice_name = 'Scissors'\n",
    "\n",
    "    # Print user choice\n",
    "    print('User choice is:', choice_name)\n",
    "    print(\"Now it's Computer's Turn...\")\n",
    "\n",
    "    # Computer chooses randomly any number among 1, 2, and 3\n",
    "    comp_choice = random.randint(1, 3)\n",
    "\n",
    "    # Initialize value of comp_choice_name variable corresponding to the choice value\n",
    "    if comp_choice == 1:\n",
    "        comp_choice_name = 'Rock'\n",
    "    elif comp_choice == 2:\n",
    "        comp_choice_name = 'Paper'\n",
    "    else:\n",
    "        comp_choice_name = 'Scissors'\n",
    "\n",
    "    print(\"Computer choice is:\", comp_choice_name)\n",
    "    print(choice_name, 'vs', comp_choice_name)\n",
    "\n",
    "    # Determine the winner\n",
    "    if choice == comp_choice:\n",
    "        result = \"DRAW\"\n",
    "    elif (choice == 1 and comp_choice == 2) or (comp_choice == 1 and choice == 2):\n",
    "        result = 'Paper'\n",
    "    elif (choice == 1 and comp_choice == 3) or (comp_choice == 1 and choice == 3):\n",
    "        result = 'Rock'\n",
    "    elif (choice == 2 and comp_choice == 3) or (comp_choice == 2 and choice == 3):\n",
    "        result = 'Scissors'\n",
    "\n",
    "    # Print the result\n",
    "    if result == \"DRAW\":\n",
    "        print(\"<== It's a tie! ==>\")\n",
    "    elif result == choice_name:\n",
    "        print(\"<== User wins! ==>\")\n",
    "    else:\n",
    "        print(\"<== Computer wins! ==>\")\n",
    "\n",
    "    # Ask if the user wants to play again\n",
    "    print(\"Do you want to play again? (Y/N)\")\n",
    "    ans = input().lower()\n",
    "    if ans == 'n':\n",
    "        break\n",
    "\n",
    "# After coming out of the while loop, print thanks for playing\n",
    "print(\"Thanks for playing!\")"
   ]
  },
  {
   "cell_type": "markdown",
   "id": "2eb050c1-8cf8-40b1-8260-b8e6ed8dbca6",
   "metadata": {},
   "source": [
    "23. Develop a program that generates a random password based on user preferences (length, complexity).\n",
    " "
   ]
  },
  {
   "cell_type": "code",
   "execution_count": 3,
   "id": "ce98e48e-1c12-40f9-8f47-5ff95517bf95",
   "metadata": {},
   "outputs": [
    {
     "name": "stdin",
     "output_type": "stream",
     "text": [
      "Enter password length:  8\n"
     ]
    },
    {
     "name": "stdout",
     "output_type": "stream",
     "text": [
      "Choose character set for password from these : \n",
      "         1. Digits\n",
      "         2. Letters\n",
      "         3. Special characters\n",
      "         4. Exit\n"
     ]
    },
    {
     "name": "stdin",
     "output_type": "stream",
     "text": [
      "Pick a number  2\n",
      "Pick a number  6\n"
     ]
    },
    {
     "name": "stdout",
     "output_type": "stream",
     "text": [
      "Please pick a valid option!\n"
     ]
    },
    {
     "name": "stdin",
     "output_type": "stream",
     "text": [
      "Pick a number  3\n",
      "Pick a number  7\n"
     ]
    },
    {
     "name": "stdout",
     "output_type": "stream",
     "text": [
      "Please pick a valid option!\n"
     ]
    },
    {
     "name": "stdin",
     "output_type": "stream",
     "text": [
      "Pick a number  2\n",
      "Pick a number  4\n"
     ]
    },
    {
     "name": "stdout",
     "output_type": "stream",
     "text": [
      "The random password is }\\@,-^95\n"
     ]
    }
   ],
   "source": [
    "import string\n",
    "import random\n",
    " \n",
    "# Getting password length\n",
    "length = int(input(\"Enter password length: \"))\n",
    " \n",
    "print('''Choose character set for password from these : \n",
    "         1. Digits\n",
    "         2. Letters\n",
    "         3. Special characters\n",
    "         4. Exit''')\n",
    " \n",
    "characterList = \"\"\n",
    " \n",
    "# Getting character set for password\n",
    "while(True):\n",
    "    choice = int(input(\"Pick a number \"))\n",
    "    if(choice == 1):\n",
    "         \n",
    "        # Adding letters to possible characters\n",
    "        characterList += string.ascii_letters\n",
    "        \n",
    "    elif(choice == 2):\n",
    "         \n",
    "        # Adding digits to possible characters\n",
    "        characterList += string.digits\n",
    "    elif(choice == 3):\n",
    "         \n",
    "        # Adding special characters to possible\n",
    "        # characters\n",
    "        characterList += string.punctuation\n",
    "    elif(choice == 4):\n",
    "        break\n",
    "    else:\n",
    "        print(\"Please pick a valid option!\")\n",
    " \n",
    "password = []\n",
    " \n",
    "for i in range(length):\n",
    "   \n",
    "    # Picking a random character from our \n",
    "    # character list\n",
    "    \n",
    "    randomchar = random.choice(characterList)\n",
    "     \n",
    "    # appending a random character to password\n",
    "    password.append(randomchar)\n",
    " \n",
    "# printing password as a string\n",
    "print(\"The random password is \" + \"\".join(password))"
   ]
  },
  {
   "cell_type": "markdown",
   "id": "0903548b-0d67-4d11-a682-34fff7cfa265",
   "metadata": {},
   "source": [
    "24. Create a program that implements a simple text-based adventure game with branching scenarios."
   ]
  },
  {
   "cell_type": "markdown",
   "id": "2680b5b8-b591-4af7-b4c4-e7ed7109dfdf",
   "metadata": {},
   "source": [
    "5. Build a program that solves a linear equation  for x, considering different cases."
   ]
  },
  {
   "cell_type": "code",
   "execution_count": 10,
   "id": "1e3ba735-53a2-4e06-9351-ba2298c9d124",
   "metadata": {},
   "outputs": [
    {
     "name": "stdout",
     "output_type": "stream",
     "text": [
      "Equation 1:\n",
      "Eq(x + y + z, 1)\n",
      "Equation 2\n",
      "Eq(x - y + 2*z, 1)\n",
      "Equation 3\n",
      "Values of 3 unknown variable are as follows:\n",
      "{x: 0, y: 1/3, z: 2/3}\n"
     ]
    }
   ],
   "source": [
    "\r\n",
    "\r\n",
    "# importing library sympy \r\n",
    "from sympy import symbols, Eq, solve \r\n",
    "  \r\n",
    "# defining symbols used in equations \r\n",
    "# or unknown variables \r\n",
    "x, y, z = symbols('x,y,z') \r\n",
    "  \r\n",
    "# defining equations \r\n",
    "eq1 = Eq((x+y+z), 1) \r\n",
    "print(\"Equation 1:\") \r\n",
    "print(eq1) \r\n",
    "  \r\n",
    "eq2 = Eq((x-y+2*z), 1) \r\n",
    "print(\"Equation 2\") \r\n",
    "print(eq2) \r\n",
    "  \r\n",
    "eq3 = Eq((2*x-y+2*z), 1) \r\n",
    "print(\"Equation 3\") \r\n",
    "  \r\n",
    "# solving the equation and printing the  \r\n",
    "# value of unknown variables \r\n",
    "print(\"Values of 3 unknown variable are as follows:\") \r\n",
    "print(solve((eq1, eq2, eq3), (x, y, z))) "
   ]
  },
  {
   "cell_type": "markdown",
   "id": "9fb70e33-5453-47a4-be35-3047f7ae0e70",
   "metadata": {},
   "source": [
    " 26. Write a program that simulates a basic quiz game with multiple-choice questions and scoring."
   ]
  },
  {
   "cell_type": "code",
   "execution_count": 14,
   "id": "e578dba6-0cb1-492d-827d-e31bee0f0fe3",
   "metadata": {},
   "outputs": [],
   "source": [
    "# no idea about logic"
   ]
  },
  {
   "cell_type": "markdown",
   "id": "d613c179-c185-4ae4-abf0-3a9ad64efc52",
   "metadata": {},
   "source": [
    "27. Develop a program that determines whether a given year is a prime number or not."
   ]
  },
  {
   "cell_type": "code",
   "execution_count": 17,
   "id": "e6124650-eb48-4357-9bb9-1947c650a2c5",
   "metadata": {},
   "outputs": [
    {
     "name": "stdout",
     "output_type": "stream",
     "text": [
      "11 is a prime number\n"
     ]
    }
   ],
   "source": [
    "num = 11\n",
    "# Negative numbers, 0 and 1 are not primes\n",
    "if num > 1:\n",
    "  \n",
    "    # Iterate from 2 to n // 2\n",
    "    for i in range(2, (num//2)+1):\n",
    "      \n",
    "        # If num is divisible by any number between\n",
    "        # 2 and n / 2, it is not prime\n",
    "        if (num % i) == 0:\n",
    "            print(num, \"is not a prime number\")\n",
    "            break\n",
    "    else:\n",
    "        print(num, \"is a prime number\")\n",
    "else:\n",
    "    print(num, \"is not a prime number\")"
   ]
  },
  {
   "cell_type": "code",
   "execution_count": 23,
   "id": "8ce6d8e2-ef36-4f6d-94c6-6775ced73033",
   "metadata": {},
   "outputs": [
    {
     "name": "stdout",
     "output_type": "stream",
     "text": [
      "True\n",
      "False\n"
     ]
    }
   ],
   "source": [
    "def is_prime_basic(n):\n",
    "    if n <= 1:\n",
    "        return False\n",
    "    for i in range(2, n):\n",
    "        if n % i == 0:\n",
    "            return False\n",
    "    return True\n",
    "# Example usage\n",
    "print(is_prime_basic(29))  # Output: True\n",
    "print(is_prime_basic(28))  # Output: False\n"
   ]
  },
  {
   "cell_type": "markdown",
   "id": "759af975-f0b1-4a44-9ddd-04e34d3b4c86",
   "metadata": {},
   "source": [
    " 28. Create a program that sorts three numbers in ascending order using conditional statements.\n"
   ]
  },
  {
   "cell_type": "code",
   "execution_count": 26,
   "id": "85460222-4e41-40ec-93cc-cfa829f5d4c8",
   "metadata": {},
   "outputs": [
    {
     "name": "stdout",
     "output_type": "stream",
     "text": [
      "Sorted numbers: (1, 2, 3)\n"
     ]
    }
   ],
   "source": [
    "def sort_three_numbers(a, b, c):\n",
    "    if a > b:\n",
    "        a, b = b, a\n",
    "    if a > c:\n",
    "        a, c = c, a\n",
    "    if b > c:\n",
    "        b, c = c, b\n",
    "    return a, b, c\n",
    "\n",
    "# Example usage\n",
    "num1 = 3\n",
    "num2 = 1\n",
    "num3 = 2\n",
    "\n",
    "sorted_numbers = sort_three_numbers(num1, num2, num3)\n",
    "print(\"Sorted numbers:\", sorted_numbers)"
   ]
  },
  {
   "cell_type": "code",
   "execution_count": 28,
   "id": "ef993f9b-63f6-449d-b2da-d8707ba389e5",
   "metadata": {},
   "outputs": [
    {
     "name": "stdin",
     "output_type": "stream",
     "text": [
      "Enter a:  4\n",
      "Enter b:  2\n",
      "Enter c:  9\n"
     ]
    },
    {
     "name": "stdout",
     "output_type": "stream",
     "text": [
      "2.0 < 4.0 < 9.0\n"
     ]
    }
   ],
   "source": [
    "a = float(input(\"Enter a: \"))\n",
    "b = float(input(\"Enter b: \"))\n",
    "c = float(input(\"Enter c: \"))\n",
    "\n",
    "if a > b:\n",
    "    a,b = b,a\n",
    "if a > c:\n",
    "    a,c = c,a\n",
    "if b > c:\n",
    "    b,c = c,b\n",
    "    \n",
    "print (a, \"<\", b, \"<\", c)"
   ]
  },
  {
   "cell_type": "markdown",
   "id": "d1b25d72-08c7-4ab4-99a7-f1e5cb633adb",
   "metadata": {},
   "source": [
    "29. Build a program that determines the roots of a quartic equation using numerical methods."
   ]
  },
  {
   "cell_type": "code",
   "execution_count": null,
   "id": "86d4eb57-e495-41b0-ac5e-4e9ad43212ef",
   "metadata": {},
   "outputs": [],
   "source": []
  },
  {
   "cell_type": "markdown",
   "id": "2c93e3ec-3809-4932-a418-6e587a84ab7c",
   "metadata": {},
   "source": [
    "30. Write a program that calculates the BMI (Body Mass Index) and provides health recommendations based \n",
    "on the user's input."
   ]
  },
  {
   "cell_type": "code",
   "execution_count": 42,
   "id": "cbc3827c-cf71-490c-8848-e429810e1992",
   "metadata": {},
   "outputs": [
    {
     "name": "stdin",
     "output_type": "stream",
     "text": [
      "enter the weight 212\n",
      "enter the height 62\n"
     ]
    },
    {
     "name": "stdout",
     "output_type": "stream",
     "text": [
      "0.055150884495317375\n",
      "under weight\n"
     ]
    }
   ],
   "source": [
    "weight =float(input('enter the weight'))\n",
    "height=float(input('enter the height'))\n",
    "BMI= weight/(height**2)\n",
    "print(BMI)\n",
    "if (BMI<18.5):\n",
    "    print('under weight')\n",
    "elif (BMI >=18.5 and bmi <24.9):\n",
    "    print('healthy')\n",
    "elif  (BMI >=24.0 and bmi <30):\n",
    "    print('over weight')\n",
    "else:\n",
    "    print('suffering from over weight')"
   ]
  },
  {
   "cell_type": "code",
   "execution_count": 46,
   "id": "e4e1e808-3dbc-4a1a-8b28-958175dcdc2a",
   "metadata": {},
   "outputs": [
    {
     "name": "stdout",
     "output_type": "stream",
     "text": [
      "The BMI is 0.05143583622053357 so underweight\n"
     ]
    }
   ],
   "source": [
    "def BMI(height, weight): \n",
    "    bmi = weight/(height**2) \n",
    "    return bmi \n",
    "  \n",
    "# Driver code \n",
    "height = 64.2\n",
    "weight = 212\n",
    "  \n",
    "# calling the BMI function \n",
    "bmi = BMI(height, weight) \n",
    "print(\"The BMI is\", format(bmi), \"so \", end='') \n",
    "  \n",
    "# Conditions to find out BMI category \n",
    "if (bmi < 18.5): \n",
    "    print(\"underweight\") \n",
    "  \n",
    "elif ( bmi >= 18.5 and bmi < 24.9): \n",
    "    print(\"Healthy\") \n",
    "  \n",
    "elif ( bmi >= 24.9 and bmi < 30): \n",
    "    print(\"overweight\") \n",
    "  \n",
    "elif ( bmi >=30): \n",
    "    print(\"Suffering from Obesity\") "
   ]
  },
  {
   "cell_type": "markdown",
   "id": "b6310f55-c128-44f4-94f8-bfe9ee6285d7",
   "metadata": {},
   "source": [
    " Challenge Level:\n"
   ]
  },
  {
   "cell_type": "markdown",
   "id": "9cda0af0-359f-41a8-86de-dfd4606d1612",
   "metadata": {},
   "source": [
    "31. Create a program that validates a password based on complexity rules (length, characters, etc.)."
   ]
  },
  {
   "cell_type": "code",
   "execution_count": 54,
   "id": "191e01e6-ad72-4a3e-8f76-4aa97af419d4",
   "metadata": {},
   "outputs": [
    {
     "name": "stdout",
     "output_type": "stream",
     "text": [
      "Password is valid.\n"
     ]
    },
    {
     "name": "stderr",
     "output_type": "stream",
     "text": [
      "<>:5: SyntaxWarning: invalid escape sequence '\\d'\n",
      "<>:5: SyntaxWarning: invalid escape sequence '\\d'\n",
      "C:\\Users\\mvska\\AppData\\Local\\Temp\\ipykernel_8444\\2414652721.py:5: SyntaxWarning: invalid escape sequence '\\d'\n",
      "  reg = \"^(?=.*[a-z])(?=.*[A-Z])(?=.*\\d)(?=.*[@$!%*#?&])[A-Za-z\\d@$!#%*?&]{6,20}$\"\n"
     ]
    }
   ],
   "source": [
    "import re\n",
    " \n",
    "def main():\n",
    "    passwd = 'Geek12@'\n",
    "    reg = \"^(?=.*[a-z])(?=.*[A-Z])(?=.*\\d)(?=.*[@$!%*#?&])[A-Za-z\\d@$!#%*?&]{6,20}$\"\n",
    "     \n",
    "    # compiling regex\n",
    "    pat = re.compile(reg)\n",
    "     \n",
    "    # searching regex                 \n",
    "    mat = re.search(pat, passwd)\n",
    "     \n",
    "    # validating conditions\n",
    "    if mat:\n",
    "        print(\"Password is valid.\")\n",
    "    else:\n",
    "        print(\"Password invalid !!\")\n",
    "\n",
    " \n",
    "# Driver Code     \n",
    "if __name__ == '__main__':\n",
    "    main()"
   ]
  },
  {
   "cell_type": "code",
   "execution_count": 58,
   "id": "dd90b2d2-ab9c-4a91-99a5-9b78d11c2b98",
   "metadata": {},
   "outputs": [
    {
     "name": "stdout",
     "output_type": "stream",
     "text": [
      "Password is valid\n"
     ]
    }
   ],
   "source": [
    "# Function to validate the password\n",
    "def password_check(passwd):\n",
    "     \n",
    "    SpecialSym =['$', '@', '#', '%']\n",
    "    val = True\n",
    "     \n",
    "    if len(passwd) < 6:\n",
    "        print('length should be at least 6')\n",
    "        val = False\n",
    "         \n",
    "    if len(passwd) > 20:\n",
    "        print('length should be not be greater than 8')\n",
    "        val = False\n",
    "         \n",
    "    if not any(char.isdigit() for char in passwd):\n",
    "        print('Password should have at least one numeral')\n",
    "        val = False\n",
    "         \n",
    "    if not any(char.isupper() for char in passwd):\n",
    "        print('Password should have at least one uppercase letter')\n",
    "        val = False\n",
    "         \n",
    "    if not any(char.islower() for char in passwd):\n",
    "        print('Password should have at least one lowercase letter')\n",
    "        val = False\n",
    "         \n",
    "    if not any(char in SpecialSym for char in passwd):\n",
    "        print('Password should have at least one of the symbols $@#')\n",
    "        val = False\n",
    "    if val:\n",
    "        return val\n",
    " \n",
    "# Main method\n",
    "def main():\n",
    "    passwd = 'Geek12@'\n",
    "     \n",
    "    if (password_check(passwd)):\n",
    "        print(\"Password is valid\")\n",
    "    else:\n",
    "        print(\"Invalid Password !!\")\n",
    "         \n",
    "# Driver Code        \n",
    "if __name__ == '__main__':\n",
    "    main()"
   ]
  },
  {
   "cell_type": "markdown",
   "id": "aa2fed8d-4b43-4436-8671-3edaf7dfc247",
   "metadata": {},
   "source": [
    " 32. Develop a program that performs matrix addition and subtraction based on user input."
   ]
  },
  {
   "cell_type": "code",
   "execution_count": 61,
   "id": "7ddd9551-c83e-48e1-ae43-9285627127be",
   "metadata": {},
   "outputs": [
    {
     "name": "stdout",
     "output_type": "stream",
     "text": [
      "Printing elements of first matrix\n",
      "[[1 2]\n",
      " [3 4]]\n",
      "Printing elements of second matrix\n",
      "[[4 5]\n",
      " [6 7]]\n",
      "Addition of two matrix\n",
      "[[ 5  7]\n",
      " [ 9 11]]\n"
     ]
    }
   ],
   "source": [
    "# importing numpy as np\n",
    "import numpy as np\n",
    " \n",
    " \n",
    "# creating first matrix\n",
    "A = np.array([[1, 2], [3, 4]])\n",
    " \n",
    "# creating second matrix\n",
    "B = np.array([[4, 5], [6, 7]])\n",
    " \n",
    "print(\"Printing elements of first matrix\")\n",
    "print(A)\n",
    "print(\"Printing elements of second matrix\")\n",
    "print(B)\n",
    " \n",
    "# adding two matrix\n",
    "print(\"Addition of two matrix\")\n",
    "print(np.add(A, B))"
   ]
  },
  {
   "cell_type": "code",
   "execution_count": 63,
   "id": "6d18c9f8-6864-41b5-be5e-b8dd239886aa",
   "metadata": {},
   "outputs": [
    {
     "name": "stdout",
     "output_type": "stream",
     "text": [
      "Printing elements of first matrix\n",
      "[[1 2]\n",
      " [3 4]]\n",
      "Printing elements of second matrix\n",
      "[[4 5]\n",
      " [6 7]]\n",
      "Subtraction of two matrix\n",
      "[[-3 -3]\n",
      " [-3 -3]]\n"
     ]
    }
   ],
   "source": [
    "# importing numpy as np\n",
    "import numpy as np\n",
    " \n",
    " \n",
    "# creating first matrix\n",
    "A = np.array([[1, 2], [3, 4]])\n",
    " \n",
    "# creating second matrix\n",
    "B = np.array([[4, 5], [6, 7]])\n",
    " \n",
    "print(\"Printing elements of first matrix\")\n",
    "print(A)\n",
    "print(\"Printing elements of second matrix\")\n",
    "print(B)\n",
    " \n",
    "# subtracting two matrix\n",
    "print(\"Subtraction of two matrix\")\n",
    "print(np.subtract(A, B))"
   ]
  },
  {
   "cell_type": "code",
   "execution_count": 65,
   "id": "4e8f638c-5aec-4a4b-af24-5f425a14c67d",
   "metadata": {},
   "outputs": [
    {
     "name": "stdout",
     "output_type": "stream",
     "text": [
      "Printing elements of first matrix\n",
      "1 2 \n",
      "3 4 \n",
      "Printing elements of second matrix\n",
      "4 5 \n",
      "6 7 \n",
      "Subtraction of two matrix\n",
      "-3 -3 \n",
      "-3 -3 \n"
     ]
    }
   ],
   "source": [
    "\n",
    "\n",
    "\n",
    "\n",
    "# Input matrices\n",
    "matrix1 = [[1, 2], [3, 4]]\n",
    "matrix2 = [[4, 5], [6, 7]]\n",
    " \n",
    "# Printing elements of matrix1\n",
    "print(\"Printing elements of first matrix\")\n",
    "for row in matrix1:\n",
    "    for element in row:\n",
    "        print(element, end=\" \")\n",
    "    print()\n",
    " \n",
    "# Printing elements of matrix2\n",
    "print(\"Printing elements of second matrix\")\n",
    "for row in matrix2:\n",
    "    for element in row:\n",
    "        print(element, end=\" \")\n",
    "    print()\n",
    " \n",
    "# Subtracting two matrices\n",
    "result = [[0, 0], [0, 0]]\n",
    "for i in range(len(matrix1)):\n",
    "    for j in range(len(matrix1[0])):\n",
    "        result[i][j] = matrix1[i][j] - matrix2[i][j]\n",
    " \n",
    "# Printing the result\n",
    "print(\"Subtraction of two matrix\")\n",
    "for row in result:\n",
    "    for element in row:\n",
    "        print(element, end=\" \")\n",
    "    print()"
   ]
  },
  {
   "cell_type": "markdown",
   "id": "2dc452ea-dacb-499d-972d-d8cb1bd14a0c",
   "metadata": {},
   "source": [
    " 33. Write a program that calculates the greatest common divisor (GCD) of two numbers using the Euclidean \n",
    "algorithm."
   ]
  },
  {
   "cell_type": "code",
   "execution_count": 68,
   "id": "cf45b13a-f650-4a29-a82d-f2cf65f5346c",
   "metadata": {},
   "outputs": [
    {
     "name": "stdout",
     "output_type": "stream",
     "text": [
      "The GCD of 48 and 18 is 6\n"
     ]
    }
   ],
   "source": [
    "def gcd(a, b):\n",
    "    while b != 0:\n",
    "        a, b = b, a % b\n",
    "    return a\n",
    "\n",
    "# Example usage\n",
    "num1 = 48\n",
    "num2 = 18\n",
    "print(f\"The GCD of {num1} and {num2} is {gcd(num1, num2)}\")"
   ]
  },
  {
   "cell_type": "markdown",
   "id": "81aac67a-0c53-4928-8c4f-d677cf71c67b",
   "metadata": {},
   "source": [
    " 34. Build a program that performs matrix multiplication using nested loops and conditional statements."
   ]
  },
  {
   "cell_type": "code",
   "execution_count": 73,
   "id": "e83356e9-6427-40f2-b059-797e96395232",
   "metadata": {},
   "outputs": [
    {
     "name": "stdout",
     "output_type": "stream",
     "text": [
      "[26, 61]\n",
      "[22, 57]\n"
     ]
    }
   ],
   "source": [
    "matrix1=[[1,6],[3,4]]\n",
    "matrix2=[[2,7],[4,9]]\n",
    "result=[[0,0],[0,0]]\n",
    "for i in range(2):\n",
    "    for j in range(2):\n",
    "        result[i][j] = (matrix1[i][0] * matrix2[0][j] +\n",
    "                        matrix1[i][1] * matrix2[1][j])\n",
    "\n",
    "for row in result:\n",
    "    print(row)"
   ]
  },
  {
   "cell_type": "markdown",
   "id": "d31c91da-9b9d-4900-9785-34fa0c5dd887",
   "metadata": {},
   "source": [
    "35. Create a program that simulates a basic text-based tic-tac-toe game against the computer."
   ]
  },
  {
   "cell_type": "code",
   "execution_count": 76,
   "id": "a74532b5-8f84-4276-92bd-fe6b005c12e4",
   "metadata": {},
   "outputs": [
    {
     "name": "stdout",
     "output_type": "stream",
     "text": [
      "Player 1\n"
     ]
    },
    {
     "name": "stdin",
     "output_type": "stream",
     "text": [
      "Enter the name :  sumasw\n"
     ]
    },
    {
     "name": "stdout",
     "output_type": "stream",
     "text": [
      "\n",
      "\n",
      "Player 2\n"
     ]
    },
    {
     "name": "stdin",
     "output_type": "stream",
     "text": [
      "Enter the name :  kira\n"
     ]
    },
    {
     "name": "stdout",
     "output_type": "stream",
     "text": [
      "\n",
      "\n",
      "\t--------------------------------\n",
      "\t              SCOREBOARD       \n",
      "\t--------------------------------\n",
      "\t    sumasw \t     0\n",
      "\t    kira \t     0\n",
      "\t--------------------------------\n",
      "\n",
      "Turn to choose for sumasw\n",
      "Enter 1 for X\n",
      "Enter 2 for O\n",
      "Enter 3 to Quit\n"
     ]
    },
    {
     "name": "stdin",
     "output_type": "stream",
     "text": [
      " 2\n"
     ]
    },
    {
     "name": "stdout",
     "output_type": "stream",
     "text": [
      "\n",
      "\n",
      "\t     |     |\n",
      "\t     |     |   \n",
      "\t_____|_____|_____\n",
      "\t     |     |\n",
      "\t     |     |   \n",
      "\t_____|_____|_____\n",
      "\t     |     |\n",
      "\t     |     |   \n",
      "\t     |     |\n",
      "\n",
      "\n",
      "Player  O  turn. Which box? : "
     ]
    },
    {
     "name": "stdin",
     "output_type": "stream",
     "text": [
      " 5\n"
     ]
    },
    {
     "name": "stdout",
     "output_type": "stream",
     "text": [
      "\n",
      "\n",
      "\t     |     |\n",
      "\t     |     |   \n",
      "\t_____|_____|_____\n",
      "\t     |     |\n",
      "\t     |  O  |   \n",
      "\t_____|_____|_____\n",
      "\t     |     |\n",
      "\t     |     |   \n",
      "\t     |     |\n",
      "\n",
      "\n",
      "Player  X  turn. Which box? : "
     ]
    },
    {
     "name": "stdin",
     "output_type": "stream",
     "text": [
      " 6\n"
     ]
    },
    {
     "name": "stdout",
     "output_type": "stream",
     "text": [
      "\n",
      "\n",
      "\t     |     |\n",
      "\t     |     |   \n",
      "\t_____|_____|_____\n",
      "\t     |     |\n",
      "\t     |  O  |  X\n",
      "\t_____|_____|_____\n",
      "\t     |     |\n",
      "\t     |     |   \n",
      "\t     |     |\n",
      "\n",
      "\n",
      "Player  O  turn. Which box? : "
     ]
    },
    {
     "name": "stdin",
     "output_type": "stream",
     "text": [
      " 3\n"
     ]
    },
    {
     "name": "stdout",
     "output_type": "stream",
     "text": [
      "\n",
      "\n",
      "\t     |     |\n",
      "\t     |     |  O\n",
      "\t_____|_____|_____\n",
      "\t     |     |\n",
      "\t     |  O  |  X\n",
      "\t_____|_____|_____\n",
      "\t     |     |\n",
      "\t     |     |   \n",
      "\t     |     |\n",
      "\n",
      "\n",
      "Player  X  turn. Which box? : "
     ]
    },
    {
     "name": "stdin",
     "output_type": "stream",
     "text": [
      " 7\n"
     ]
    },
    {
     "name": "stdout",
     "output_type": "stream",
     "text": [
      "\n",
      "\n",
      "\t     |     |\n",
      "\t     |     |  O\n",
      "\t_____|_____|_____\n",
      "\t     |     |\n",
      "\t     |  O  |  X\n",
      "\t_____|_____|_____\n",
      "\t     |     |\n",
      "\t  X  |     |   \n",
      "\t     |     |\n",
      "\n",
      "\n",
      "Player  O  turn. Which box? : "
     ]
    },
    {
     "name": "stdin",
     "output_type": "stream",
     "text": [
      " 6\n"
     ]
    },
    {
     "name": "stdout",
     "output_type": "stream",
     "text": [
      "Place already filled. Try again!!\n",
      "\n",
      "\n",
      "\t     |     |\n",
      "\t     |     |  O\n",
      "\t_____|_____|_____\n",
      "\t     |     |\n",
      "\t     |  O  |  X\n",
      "\t_____|_____|_____\n",
      "\t     |     |\n",
      "\t  X  |     |   \n",
      "\t     |     |\n",
      "\n",
      "\n",
      "Player  O  turn. Which box? : "
     ]
    },
    {
     "name": "stdin",
     "output_type": "stream",
     "text": [
      " 1\n"
     ]
    },
    {
     "name": "stdout",
     "output_type": "stream",
     "text": [
      "\n",
      "\n",
      "\t     |     |\n",
      "\t  O  |     |  O\n",
      "\t_____|_____|_____\n",
      "\t     |     |\n",
      "\t     |  O  |  X\n",
      "\t_____|_____|_____\n",
      "\t     |     |\n",
      "\t  X  |     |   \n",
      "\t     |     |\n",
      "\n",
      "\n",
      "Player  X  turn. Which box? : "
     ]
    },
    {
     "name": "stdin",
     "output_type": "stream",
     "text": [
      " 9\n"
     ]
    },
    {
     "name": "stdout",
     "output_type": "stream",
     "text": [
      "\n",
      "\n",
      "\t     |     |\n",
      "\t  O  |     |  O\n",
      "\t_____|_____|_____\n",
      "\t     |     |\n",
      "\t     |  O  |  X\n",
      "\t_____|_____|_____\n",
      "\t     |     |\n",
      "\t  X  |     |  X\n",
      "\t     |     |\n",
      "\n",
      "\n",
      "Player  O  turn. Which box? : "
     ]
    },
    {
     "name": "stdin",
     "output_type": "stream",
     "text": [
      " 2\n"
     ]
    },
    {
     "name": "stdout",
     "output_type": "stream",
     "text": [
      "\n",
      "\n",
      "\t     |     |\n",
      "\t  O  |  O  |  O\n",
      "\t_____|_____|_____\n",
      "\t     |     |\n",
      "\t     |  O  |  X\n",
      "\t_____|_____|_____\n",
      "\t     |     |\n",
      "\t  X  |     |  X\n",
      "\t     |     |\n",
      "\n",
      "\n",
      "Player  O  has won the game!!\n",
      "\n",
      "\n",
      "\t--------------------------------\n",
      "\t              SCOREBOARD       \n",
      "\t--------------------------------\n",
      "\t    sumasw \t     1\n",
      "\t    kira \t     0\n",
      "\t--------------------------------\n",
      "\n",
      "Turn to choose for kira\n",
      "Enter 1 for X\n",
      "Enter 2 for O\n",
      "Enter 3 to Quit\n"
     ]
    },
    {
     "name": "stdin",
     "output_type": "stream",
     "text": [
      " 2\n"
     ]
    },
    {
     "name": "stdout",
     "output_type": "stream",
     "text": [
      "\n",
      "\n",
      "\t     |     |\n",
      "\t     |     |   \n",
      "\t_____|_____|_____\n",
      "\t     |     |\n",
      "\t     |     |   \n",
      "\t_____|_____|_____\n",
      "\t     |     |\n",
      "\t     |     |   \n",
      "\t     |     |\n",
      "\n",
      "\n",
      "Player  O  turn. Which box? : "
     ]
    },
    {
     "name": "stdin",
     "output_type": "stream",
     "text": [
      " 7\n"
     ]
    },
    {
     "name": "stdout",
     "output_type": "stream",
     "text": [
      "\n",
      "\n",
      "\t     |     |\n",
      "\t     |     |   \n",
      "\t_____|_____|_____\n",
      "\t     |     |\n",
      "\t     |     |   \n",
      "\t_____|_____|_____\n",
      "\t     |     |\n",
      "\t  O  |     |   \n",
      "\t     |     |\n",
      "\n",
      "\n",
      "Player  X  turn. Which box? : "
     ]
    },
    {
     "name": "stdin",
     "output_type": "stream",
     "text": [
      " 9\n"
     ]
    },
    {
     "name": "stdout",
     "output_type": "stream",
     "text": [
      "\n",
      "\n",
      "\t     |     |\n",
      "\t     |     |   \n",
      "\t_____|_____|_____\n",
      "\t     |     |\n",
      "\t     |     |   \n",
      "\t_____|_____|_____\n",
      "\t     |     |\n",
      "\t  O  |     |  X\n",
      "\t     |     |\n",
      "\n",
      "\n",
      "Player  O  turn. Which box? : "
     ]
    },
    {
     "name": "stdin",
     "output_type": "stream",
     "text": [
      " 3\n"
     ]
    },
    {
     "name": "stdout",
     "output_type": "stream",
     "text": [
      "\n",
      "\n",
      "\t     |     |\n",
      "\t     |     |  O\n",
      "\t_____|_____|_____\n",
      "\t     |     |\n",
      "\t     |     |   \n",
      "\t_____|_____|_____\n",
      "\t     |     |\n",
      "\t  O  |     |  X\n",
      "\t     |     |\n",
      "\n",
      "\n",
      "Player  X  turn. Which box? : "
     ]
    },
    {
     "name": "stdin",
     "output_type": "stream",
     "text": [
      " 5\n"
     ]
    },
    {
     "name": "stdout",
     "output_type": "stream",
     "text": [
      "\n",
      "\n",
      "\t     |     |\n",
      "\t     |     |  O\n",
      "\t_____|_____|_____\n",
      "\t     |     |\n",
      "\t     |  X  |   \n",
      "\t_____|_____|_____\n",
      "\t     |     |\n",
      "\t  O  |     |  X\n",
      "\t     |     |\n",
      "\n",
      "\n",
      "Player  O  turn. Which box? : "
     ]
    },
    {
     "name": "stdin",
     "output_type": "stream",
     "text": [
      " 4\n"
     ]
    },
    {
     "name": "stdout",
     "output_type": "stream",
     "text": [
      "\n",
      "\n",
      "\t     |     |\n",
      "\t     |     |  O\n",
      "\t_____|_____|_____\n",
      "\t     |     |\n",
      "\t  O  |  X  |   \n",
      "\t_____|_____|_____\n",
      "\t     |     |\n",
      "\t  O  |     |  X\n",
      "\t     |     |\n",
      "\n",
      "\n",
      "Player  X  turn. Which box? : "
     ]
    },
    {
     "name": "stdin",
     "output_type": "stream",
     "text": [
      " 1\n"
     ]
    },
    {
     "name": "stdout",
     "output_type": "stream",
     "text": [
      "\n",
      "\n",
      "\t     |     |\n",
      "\t  X  |     |  O\n",
      "\t_____|_____|_____\n",
      "\t     |     |\n",
      "\t  O  |  X  |   \n",
      "\t_____|_____|_____\n",
      "\t     |     |\n",
      "\t  O  |     |  X\n",
      "\t     |     |\n",
      "\n",
      "\n",
      "Player  X  has won the game!!\n",
      "\n",
      "\n",
      "\t--------------------------------\n",
      "\t              SCOREBOARD       \n",
      "\t--------------------------------\n",
      "\t    sumasw \t     2\n",
      "\t    kira \t     0\n",
      "\t--------------------------------\n",
      "\n",
      "Turn to choose for sumasw\n",
      "Enter 1 for X\n",
      "Enter 2 for O\n",
      "Enter 3 to Quit\n"
     ]
    },
    {
     "name": "stdin",
     "output_type": "stream",
     "text": [
      " 3\n"
     ]
    },
    {
     "name": "stdout",
     "output_type": "stream",
     "text": [
      "Final Scores\n",
      "\t--------------------------------\n",
      "\t              SCOREBOARD       \n",
      "\t--------------------------------\n",
      "\t    sumasw \t     2\n",
      "\t    kira \t     0\n",
      "\t--------------------------------\n",
      "\n"
     ]
    }
   ],
   "source": [
    "# Function to print Tic Tac Toe\n",
    "def print_tic_tac_toe(values):\n",
    "    print(\"\\n\")\n",
    "    print(\"\\t     |     |\")\n",
    "    print(\"\\t  {}  |  {}  |  {}\".format(values[0], values[1], values[2]))\n",
    "    print('\\t_____|_____|_____')\n",
    " \n",
    "    print(\"\\t     |     |\")\n",
    "    print(\"\\t  {}  |  {}  |  {}\".format(values[3], values[4], values[5]))\n",
    "    print('\\t_____|_____|_____')\n",
    " \n",
    "    print(\"\\t     |     |\")\n",
    " \n",
    "    print(\"\\t  {}  |  {}  |  {}\".format(values[6], values[7], values[8]))\n",
    "    print(\"\\t     |     |\")\n",
    "    print(\"\\n\")\n",
    " \n",
    " \n",
    "# Function to print the score-board\n",
    "def print_scoreboard(score_board):\n",
    "    print(\"\\t--------------------------------\")\n",
    "    print(\"\\t              SCOREBOARD       \")\n",
    "    print(\"\\t--------------------------------\")\n",
    " \n",
    "    players = list(score_board.keys())\n",
    "    print(\"\\t   \", players[0], \"\\t    \", score_board[players[0]])\n",
    "    print(\"\\t   \", players[1], \"\\t    \", score_board[players[1]])\n",
    " \n",
    "    print(\"\\t--------------------------------\\n\")\n",
    " \n",
    "# Function to check if any player has won\n",
    "def check_win(player_pos, cur_player):\n",
    " \n",
    "    # All possible winning combinations\n",
    "    soln = [[1, 2, 3], [4, 5, 6], [7, 8, 9], [1, 4, 7], [2, 5, 8], [3, 6, 9], [1, 5, 9], [3, 5, 7]]\n",
    " \n",
    "    # Loop to check if any winning combination is satisfied\n",
    "    for x in soln:\n",
    "        if all(y in player_pos[cur_player] for y in x):\n",
    " \n",
    "            # Return True if any winning combination satisfies\n",
    "            return True\n",
    "    # Return False if no combination is satisfied       \n",
    "    return False       \n",
    " \n",
    "# Function to check if the game is drawn\n",
    "def check_draw(player_pos):\n",
    "    if len(player_pos['X']) + len(player_pos['O']) == 9:\n",
    "        return True\n",
    "    return False       \n",
    " \n",
    "# Function for a single game of Tic Tac Toe\n",
    "def single_game(cur_player):\n",
    " \n",
    "    # Represents the Tic Tac Toe\n",
    "    values = [' ' for x in range(9)]\n",
    "     \n",
    "    # Stores the positions occupied by X and O\n",
    "    player_pos = {'X':[], 'O':[]}\n",
    "     \n",
    "    # Game Loop for a single game of Tic Tac Toe\n",
    "    while True:\n",
    "        print_tic_tac_toe(values)\n",
    "         \n",
    "        # Try exception block for MOVE input\n",
    "        try:\n",
    "            print(\"Player \", cur_player, \" turn. Which box? : \", end=\"\")\n",
    "            move = int(input()) \n",
    "        except ValueError:\n",
    "            print(\"Wrong Input!!! Try Again\")\n",
    "            continue\n",
    " \n",
    "        # Sanity check for MOVE inout\n",
    "        if move < 1 or move > 9:\n",
    "            print(\"Wrong Input!!! Try Again\")\n",
    "            continue\n",
    " \n",
    "        # Check if the box is not occupied already\n",
    "        if values[move-1] != ' ':\n",
    "            print(\"Place already filled. Try again!!\")\n",
    "            continue\n",
    " \n",
    "        # Update game information\n",
    " \n",
    "        # Updating grid status \n",
    "        values[move-1] = cur_player\n",
    " \n",
    "        # Updating player positions\n",
    "        player_pos[cur_player].append(move)\n",
    " \n",
    "        # Function call for checking win\n",
    "        if check_win(player_pos, cur_player):\n",
    "            print_tic_tac_toe(values)\n",
    "            print(\"Player \", cur_player, \" has won the game!!\")     \n",
    "            print(\"\\n\")\n",
    "            return cur_player\n",
    " \n",
    "        # Function call for checking draw game\n",
    "        if check_draw(player_pos):\n",
    "            print_tic_tac_toe(values)\n",
    "            print(\"Game Drawn\")\n",
    "            print(\"\\n\")\n",
    "            return 'D'\n",
    " \n",
    "        # Switch player moves\n",
    "        if cur_player == 'X':\n",
    "            cur_player = 'O'\n",
    "        else:\n",
    "            cur_player = 'X'\n",
    " \n",
    "if __name__ == \"__main__\":\n",
    " \n",
    "    print(\"Player 1\")\n",
    "    player1 = input(\"Enter the name : \")\n",
    "    print(\"\\n\")\n",
    " \n",
    "    print(\"Player 2\")\n",
    "    player2 = input(\"Enter the name : \")\n",
    "    print(\"\\n\")\n",
    "     \n",
    "    # Stores the player who chooses X and O\n",
    "    cur_player = player1\n",
    " \n",
    "    # Stores the choice of players\n",
    "    player_choice = {'X' : \"\", 'O' : \"\"}\n",
    " \n",
    "    # Stores the options\n",
    "    options = ['X', 'O']\n",
    " \n",
    "    # Stores the scoreboard\n",
    "    score_board = {player1: 0, player2: 0}\n",
    "    print_scoreboard(score_board)\n",
    " \n",
    "    # Game Loop for a series of Tic Tac Toe\n",
    "    # The loop runs until the players quit \n",
    "    while True:\n",
    " \n",
    "        # Player choice Menu\n",
    "        print(\"Turn to choose for\", cur_player)\n",
    "        print(\"Enter 1 for X\")\n",
    "        print(\"Enter 2 for O\")\n",
    "        print(\"Enter 3 to Quit\")\n",
    " \n",
    "        # Try exception for CHOICE input\n",
    "        try:\n",
    "            choice = int(input())   \n",
    "        except ValueError:\n",
    "            print(\"Wrong Input!!! Try Again\\n\")\n",
    "            continue\n",
    " \n",
    "        # Conditions for player choice  \n",
    "        if choice == 1:\n",
    "            player_choice['X'] = cur_player\n",
    "            if cur_player == player1:\n",
    "                player_choice['O'] = player2\n",
    "            else:\n",
    "                player_choice['O'] = player1\n",
    " \n",
    "        elif choice == 2:\n",
    "            player_choice['O'] = cur_player\n",
    "            if cur_player == player1:\n",
    "                player_choice['X'] = player2\n",
    "            else:\n",
    "                player_choice['X'] = player1\n",
    "         \n",
    "        elif choice == 3:\n",
    "            print(\"Final Scores\")\n",
    "            print_scoreboard(score_board)\n",
    "            break  \n",
    " \n",
    "        else:\n",
    "            print(\"Wrong Choice!!!! Try Again\\n\")\n",
    " \n",
    "        # Stores the winner in a single game of Tic Tac Toe\n",
    "        winner = single_game(options[choice-1])\n",
    "         \n",
    "        # Edits the scoreboard according to the winner\n",
    "        if winner != 'D' :\n",
    "            player_won = player_choice[winner]\n",
    "            score_board[player_won] = score_board[player_won] + 1\n",
    " \n",
    "        print_scoreboard(score_board)\n",
    "        # Switch player who chooses X or O\n",
    "        if cur_player == player1:\n",
    "            cur_player = player2\n",
    "        else:\n",
    "            cur_player = player1\n"
   ]
  },
  {
   "cell_type": "markdown",
   "id": "48d01ffc-62f1-4745-b0e5-da5da8a1540a",
   "metadata": {},
   "source": [
    " 36. Write a program that generates Fibonacci numbers up to a specified term using iterative methods."
   ]
  },
  {
   "cell_type": "code",
   "execution_count": 104,
   "id": "7669b8a8-9c45-467f-9e2a-77e6feb9db67",
   "metadata": {},
   "outputs": [
    {
     "name": "stdout",
     "output_type": "stream",
     "text": [
      "fibonaci Series: 0 1 1 2 3 5 8 13 21 34\n"
     ]
    }
   ],
   "source": [
    "def fibo(n):\n",
    "    l=[0,1]\n",
    "    for i in range(2,n):\n",
    "        l.append(l[-1]+l[-2])\n",
    "    return l\n",
    "\n",
    "if __name__==\"__main__\":\n",
    "     n=10\n",
    "     fib=fibo(n)\n",
    "     print('fibonaci Series:',*fib)"
   ]
  },
  {
   "cell_type": "code",
   "execution_count": 107,
   "id": "9e69f6da-afcb-4c9e-845e-b99b11eb4fc9",
   "metadata": {},
   "outputs": [
    {
     "name": "stdout",
     "output_type": "stream",
     "text": [
      "Fibonacci Series: 0 1 1 2 3 5 8 13 21 34 "
     ]
    }
   ],
   "source": [
    "#Creating a Fibonacci function\n",
    "def fibonacci(n):\n",
    "  \n",
    "      #defining first two variables\n",
    "    a,b = 0,1\n",
    "    yield 0\n",
    "    yield 1\n",
    "    for i in range(2, n):\n",
    "        yield a+b\n",
    "        #swaping a with b and b with sum\n",
    "        a,b = b, a+b\n",
    "\n",
    "if __name__ == \"__main__\":\n",
    "    n = 10\n",
    "    # Function Calling\n",
    "    gen = fibonacci(n)\n",
    "    \n",
    "    #displaying the series\n",
    "    print(\"Fibonacci Series: \",end=\"\") \n",
    "    for i in range(n):\n",
    "        print(next(gen), end=\" \")"
   ]
  },
  {
   "cell_type": "code",
   "execution_count": 117,
   "id": "730f36ff-fbcd-46e3-ade4-60aa3696638d",
   "metadata": {},
   "outputs": [
    {
     "name": "stdout",
     "output_type": "stream",
     "text": [
      "21\n"
     ]
    }
   ],
   "source": [
    "def fibonacci(n):\n",
    "    a = 0\n",
    "    b = 1\n",
    "    if n < 0:\n",
    "        print(\"Incorrect input\")\n",
    "    elif n == 0:\n",
    "        return a\n",
    "    elif n == 1:\n",
    "        return b\n",
    "    else:\n",
    "        for i in range(2, n):\n",
    "            c = a + b\n",
    "            a = b\n",
    "            b = c\n",
    "        return b\n",
    "\n",
    "# Driver Program\n",
    "\n",
    "print(fibonacci(9))"
   ]
  },
  {
   "cell_type": "markdown",
   "id": "a8cc2a42-de78-4b92-af30-e94d264b2b5c",
   "metadata": {},
   "source": [
    " 37. Develop a program that calculates the nth term of the Fibonacci sequence using memoization."
   ]
  },
  {
   "cell_type": "code",
   "execution_count": 109,
   "id": "962a96da-c61e-4da3-a4c6-859a37854c3d",
   "metadata": {},
   "outputs": [
    {
     "name": "stdout",
     "output_type": "stream",
     "text": [
      "34\n"
     ]
    }
   ],
   "source": [
    "# Function for nth Fibonacci number\n",
    "def Fibonacci(n):\n",
    "    if n<= 0:\n",
    "        print(\"Incorrect input\")\n",
    "    # First Fibonacci number is 0\n",
    "    elif n == 1:\n",
    "        return 0\n",
    "    # Second Fibonacci number is 1\n",
    "    elif n == 2:\n",
    "        return 1\n",
    "    else:\n",
    "        return Fibonacci(n-1)+Fibonacci(n-2)\n",
    "\n",
    "# Driver Program\n",
    "\n",
    "print(Fibonacci(10))"
   ]
  },
  {
   "cell_type": "code",
   "execution_count": 125,
   "id": "d26ac4be-5a6b-419b-a4f7-b6121fa31f40",
   "metadata": {},
   "outputs": [
    {
     "name": "stdout",
     "output_type": "stream",
     "text": [
      "21\n"
     ]
    }
   ],
   "source": [
    "# creating an array in the function to find the\n",
    "#nth number in fibonacci series. [0, 1, 1, ...]\n",
    "def fibonacci(n):\n",
    "    if n <= 0:\n",
    "        return \"Incorrect Output\"\n",
    "    data = [0, 1]\n",
    "    if n > 2:\n",
    "        for i in range(2, n):\n",
    "            data.append(data[i-1] + data[i-2])\n",
    "    return data[n-1]\n",
    "\n",
    "# Driver Program\n",
    "print(fibonacci(9))"
   ]
  },
  {
   "cell_type": "code",
   "execution_count": 127,
   "id": "30f67329-a515-4ce7-9a8c-bbe6b1c8e749",
   "metadata": {},
   "outputs": [
    {
     "name": "stdout",
     "output_type": "stream",
     "text": [
      "The 10th term of the Fibonacci sequence is 55\n"
     ]
    }
   ],
   "source": [
    "def fibonacci(n, memo={}):\n",
    "    if n in memo:\n",
    "        return memo[n]\n",
    "    if n <= 1:\n",
    "        return n\n",
    "    memo[n] = fibonacci(n-1, memo) + fibonacci(n-2, memo)\n",
    "    return memo[n]\n",
    "\n",
    "# Example usage:\n",
    "n = 10\n",
    "print(f\"The {n}th term of the Fibonacci sequence is {fibonacci(n)}\")"
   ]
  },
  {
   "cell_type": "code",
   "execution_count": 129,
   "id": "158b1bd9-9508-4431-8aba-79136adf9991",
   "metadata": {},
   "outputs": [
    {
     "name": "stdout",
     "output_type": "stream",
     "text": [
      "21\n"
     ]
    }
   ],
   "source": [
    "def fibonacci(n):\n",
    "    a = 0\n",
    "    b = 1\n",
    "    if n < 0:\n",
    "        print(\"Incorrect input\")\n",
    "    elif n == 0:\n",
    "        return a\n",
    "    elif n == 1:\n",
    "        return b\n",
    "    else:\n",
    "        for i in range(2, n):\n",
    "            c = a + b\n",
    "            a = b\n",
    "            b = c\n",
    "        return b\n",
    "\n",
    "# Driver Program\n",
    "\n",
    "print(fibonacci(9))"
   ]
  },
  {
   "cell_type": "markdown",
   "id": "89b6fabe-352e-4bcc-bbe7-9344fe3d5fe7",
   "metadata": {},
   "source": [
    " 38. Create a program that generates a calendar for a given month and year using conditional statements"
   ]
  },
  {
   "cell_type": "code",
   "execution_count": 1,
   "id": "b89609a6-16dd-46b0-87e4-faeb72c8644b",
   "metadata": {},
   "outputs": [
    {
     "name": "stdin",
     "output_type": "stream",
     "text": [
      "Enter the year:  1984\n",
      "Enter the month (1-12):  08\n"
     ]
    },
    {
     "name": "stdout",
     "output_type": "stream",
     "text": [
      "Calendar for 1984-8\n",
      "    August 1984\n",
      "Mo Tu We Th Fr Sa Su\n",
      "       1  2  3  4  5\n",
      " 6  7  8  9 10 11 12\n",
      "13 14 15 16 17 18 19\n",
      "20 21 22 23 24 25 26\n",
      "27 28 29 30 31\n",
      "\n"
     ]
    }
   ],
   "source": [
    "import calendar\n",
    "\n",
    "year = int(input(\"Enter the year: \"))\n",
    "month = int(input(\"Enter the month (1-12): \"))\n",
    "\n",
    "if month < 1 or month > 12:\n",
    "    print(\"Invalid month. Please enter a number between 1 and 12.\")\n",
    "else:\n",
    "    cal = calendar.month(year, month)\n",
    "    print(\"Calendar for {}-{}\".format(year, month))\n",
    "    print(cal)"
   ]
  },
  {
   "cell_type": "code",
   "execution_count": 5,
   "id": "9e0b8ae0-acde-4161-9b4b-b341f5794f22",
   "metadata": {},
   "outputs": [
    {
     "name": "stdin",
     "output_type": "stream",
     "text": [
      "Enter the year:  1984\n",
      "Enter the month (1-12):  08\n"
     ]
    },
    {
     "name": "stdout",
     "output_type": "stream",
     "text": [
      "Calendar for 1984-8\n",
      "+-----+-----+-----+-----+-----+-----+-----+\n",
      "| Sun | Mon | Tue | Wed | Thu | Fri | Sat |\n",
      "+-----+-----+-----+-----+-----+-----+-----+\n",
      "+-----+-----+-----+-----+-----+-----+-----+\n",
      "+-----+-----+-----+-----+-----+-----+-----+\n",
      "| Sun | Mon | Tue | Wed | Thu | Fri | Sat |\n",
      "+-----+-----+-----+-----+-----+-----+-----+\n",
      "|     |     |  1  |  2  |  3  |  4  |  5  |\n",
      "|  6  |  7  |  8  |  9  |  10 |  11 |  12 |\n",
      "|  13 |  14 |  15 |  16 |  17 |  18 |  19 |\n",
      "|  20 |  21 |  22 |  23 |  24 |  25 |  26 |\n",
      "|  27 |  28 |  29 |  30 |  31 |     |     |\n",
      "+-----+-----+-----+-----+-----+-----+-----+\n"
     ]
    }
   ],
   "source": [
    "import calendar\n",
    "from prettytable import PrettyTable\n",
    "\n",
    "year = int(input(\"Enter the year: \"))\n",
    "month = int(input(\"Enter the month (1-12): \"))\n",
    "\n",
    "if month < 1 or month > 12:\n",
    "    print(\"Invalid month. Please enter a number between 1 and 12.\")\n",
    "else:\n",
    "    cal = calendar.monthcalendar(year, month)\n",
    "    print(\"Calendar for {}-{}\".format(year, month))\n",
    "    table = PrettyTable()\n",
    "    table.field_names = [\"Sun\", \"Mon\", \"Tue\", \"Wed\", \"Thu\", \"Fri\", \"Sat\"]\n",
    "    print(table)\n",
    "    for week in cal:\n",
    "        table.add_row([day if day != 0 else \"\" for day in week])\n",
    "    print(table)"
   ]
  },
  {
   "cell_type": "markdown",
   "id": "10c01763-de55-44a7-bdc0-56e747909c23",
   "metadata": {},
   "source": [
    "39. Build a program that simulates a basic text-based blackjack game against the computer."
   ]
  },
  {
   "cell_type": "code",
   "execution_count": 7,
   "id": "10610574-0e19-4f0e-833d-9b03969a2328",
   "metadata": {},
   "outputs": [
    {
     "name": "stdout",
     "output_type": "stream",
     "text": [
      "PLAYER CARDS: \n",
      "\t ________________\n",
      "\t|                |\n",
      "\t|  6             |\n",
      "\t|                |\n",
      "\t|                |\n",
      "\t|                |\n",
      "\t|                |\n",
      "\t|       ♧        |\n",
      "\t|                |\n",
      "\t|                |\n",
      "\t|                |\n",
      "\t|                |\n",
      "\t|            6   |\n",
      "\t|________________|\n",
      "\n",
      "PLAYER SCORE =  6\n"
     ]
    },
    {
     "name": "stdin",
     "output_type": "stream",
     "text": [
      " 6\n"
     ]
    },
    {
     "name": "stdout",
     "output_type": "stream",
     "text": [
      "DEALER CARDS: \n",
      "\t ________________\n",
      "\t|                |\n",
      "\t|  J             |\n",
      "\t|                |\n",
      "\t|                |\n",
      "\t|                |\n",
      "\t|                |\n",
      "\t|       ♤        |\n",
      "\t|                |\n",
      "\t|                |\n",
      "\t|                |\n",
      "\t|                |\n",
      "\t|            J   |\n",
      "\t|________________|\n",
      "\n",
      "DEALER SCORE =  10\n"
     ]
    },
    {
     "name": "stdin",
     "output_type": "stream",
     "text": [
      " 10\n"
     ]
    },
    {
     "name": "stdout",
     "output_type": "stream",
     "text": [
      "PLAYER CARDS: \n",
      "\t ________________\t ________________\n",
      "\t|                |\t|                |\n",
      "\t|  6             |\t|  2             |\n",
      "\t|                |\t|                |\n",
      "\t|                |\t|                |\n",
      "\t|                |\t|                |\n",
      "\t|                |\t|                |\n",
      "\t|       ♧        |\t|       ♢        |\n",
      "\t|                |\t|                |\n",
      "\t|                |\t|                |\n",
      "\t|                |\t|                |\n",
      "\t|                |\t|                |\n",
      "\t|            6   |\t|            2   |\n",
      "\t|________________|\t|________________|\n",
      "\n",
      "PLAYER SCORE =  8\n"
     ]
    },
    {
     "name": "stdin",
     "output_type": "stream",
     "text": [
      " 8\n"
     ]
    },
    {
     "name": "stdout",
     "output_type": "stream",
     "text": [
      "DEALER CARDS: \n",
      "\t ________________\t ________________\n",
      "\t|                |\t|                |\n",
      "\t|  J             |\t|                |\n",
      "\t|                |\t|      * *       |\n",
      "\t|                |\t|    *     *     |\n",
      "\t|                |\t|   *       *    |\n",
      "\t|                |\t|   *       *    |\n",
      "\t|       ♤        |\t|          *     |\n",
      "\t|                |\t|         *      |\n",
      "\t|                |\t|        *       |\n",
      "\t|                |\t|                |\n",
      "\t|                |\t|                |\n",
      "\t|            J   |\t|        *       |\n",
      "\t|________________|\t|________________|\n",
      "\n",
      "DEALER SCORE =  10\n"
     ]
    },
    {
     "name": "stdin",
     "output_type": "stream",
     "text": [
      " 11\n"
     ]
    },
    {
     "name": "stdout",
     "output_type": "stream",
     "text": [
      "DEALER CARDS: \n",
      "\t ________________\t ________________\n",
      "\t|                |\t|                |\n",
      "\t|  J             |\t|                |\n",
      "\t|                |\t|      * *       |\n",
      "\t|                |\t|    *     *     |\n",
      "\t|                |\t|   *       *    |\n",
      "\t|                |\t|   *       *    |\n",
      "\t|       ♤        |\t|          *     |\n",
      "\t|                |\t|         *      |\n",
      "\t|                |\t|        *       |\n",
      "\t|                |\t|                |\n",
      "\t|                |\t|                |\n",
      "\t|            J   |\t|        *       |\n",
      "\t|________________|\t|________________|\n",
      "\n",
      "DEALER SCORE =  10\n",
      "\n",
      "PLAYER CARDS: \n",
      "\t ________________\t ________________\n",
      "\t|                |\t|                |\n",
      "\t|  6             |\t|  2             |\n",
      "\t|                |\t|                |\n",
      "\t|                |\t|                |\n",
      "\t|                |\t|                |\n",
      "\t|                |\t|                |\n",
      "\t|       ♧        |\t|       ♢        |\n",
      "\t|                |\t|                |\n",
      "\t|                |\t|                |\n",
      "\t|                |\t|                |\n",
      "\t|                |\t|                |\n",
      "\t|            6   |\t|            2   |\n",
      "\t|________________|\t|________________|\n",
      "\n",
      "PLAYER SCORE =  8\n"
     ]
    },
    {
     "name": "stdin",
     "output_type": "stream",
     "text": [
      "Enter H to Hit or S to Stand :  s\n"
     ]
    },
    {
     "name": "stdout",
     "output_type": "stream",
     "text": [
      "PLAYER CARDS: \n",
      "\t ________________\t ________________\n",
      "\t|                |\t|                |\n",
      "\t|  6             |\t|  2             |\n",
      "\t|                |\t|                |\n",
      "\t|                |\t|                |\n",
      "\t|                |\t|                |\n",
      "\t|                |\t|                |\n",
      "\t|       ♧        |\t|       ♢        |\n",
      "\t|                |\t|                |\n",
      "\t|                |\t|                |\n",
      "\t|                |\t|                |\n",
      "\t|                |\t|                |\n",
      "\t|            6   |\t|            2   |\n",
      "\t|________________|\t|________________|\n",
      "\n",
      "PLAYER SCORE =  8\n",
      "\n",
      "DEALER IS REVEALING THE CARDS....\n",
      "DEALER CARDS: \n",
      "\t ________________\t ________________\n",
      "\t|                |\t|                |\n",
      "\t|  J             |\t|  K             |\n",
      "\t|                |\t|                |\n",
      "\t|                |\t|                |\n",
      "\t|                |\t|                |\n",
      "\t|                |\t|                |\n",
      "\t|       ♤        |\t|       ♤        |\n",
      "\t|                |\t|                |\n",
      "\t|                |\t|                |\n",
      "\t|                |\t|                |\n",
      "\t|                |\t|                |\n",
      "\t|            J   |\t|            K   |\n",
      "\t|________________|\t|________________|\n",
      "\n",
      "DEALER SCORE =  20\n"
     ]
    },
    {
     "name": "stdin",
     "output_type": "stream",
     "text": [
      " h\n"
     ]
    },
    {
     "name": "stdout",
     "output_type": "stream",
     "text": [
      "DEALER WINS!!!\n"
     ]
    }
   ],
   "source": [
    "import random\n",
    "import os\n",
    "import time\n",
    " \n",
    "# The Card class definition\n",
    "class Card:\n",
    "    def __init__(self, suit, value, card_value):\n",
    "         \n",
    "        # Suit of the Card like Spades and Clubs\n",
    "        self.suit = suit\n",
    " \n",
    "        # Representing Value of the Card like A for Ace, K for King\n",
    "        self.value = value\n",
    " \n",
    "        # Score Value for the Card like 10 for King\n",
    "        self.card_value = card_value\n",
    " \n",
    "# Clear the terminal\n",
    "def clear():\n",
    "    os.system(\"clear\")\n",
    " \n",
    "# Function to print the cards\n",
    "def print_cards(cards, hidden):\n",
    "         \n",
    "    s = \"\"\n",
    "    for card in cards:\n",
    "        s = s + \"\\t ________________\"\n",
    "    if hidden:\n",
    "        s += \"\\t ________________\"\n",
    "    print(s)\n",
    " \n",
    " \n",
    "    s = \"\"\n",
    "    for card in cards:\n",
    "        s = s + \"\\t|                |\"\n",
    "    if hidden:\n",
    "        s += \"\\t|                |\"    \n",
    "    print(s)\n",
    " \n",
    "    s = \"\"\n",
    "    for card in cards:\n",
    "        if card.value == '10':\n",
    "            s = s + \"\\t|  {}            |\".format(card.value)\n",
    "        else:\n",
    "            s = s + \"\\t|  {}             |\".format(card.value)  \n",
    "    if hidden:\n",
    "        s += \"\\t|                |\"    \n",
    "    print(s)\n",
    " \n",
    "    s = \"\"\n",
    "    for card in cards:\n",
    "        s = s + \"\\t|                |\"\n",
    "    if hidden:\n",
    "        s += \"\\t|      * *       |\"\n",
    "    print(s)    \n",
    " \n",
    "    s = \"\"\n",
    "    for card in cards:\n",
    "        s = s + \"\\t|                |\"\n",
    "    if hidden:\n",
    "        s += \"\\t|    *     *     |\"\n",
    "    print(s)    \n",
    " \n",
    "    s = \"\"\n",
    "    for card in cards:\n",
    "        s = s + \"\\t|                |\"\n",
    "    if hidden:\n",
    "        s += \"\\t|   *       *    |\"\n",
    "    print(s)    \n",
    " \n",
    "    s = \"\"\n",
    "    for card in cards:\n",
    "        s = s + \"\\t|                |\"\n",
    "    if hidden:\n",
    "        s += \"\\t|   *       *    |\"\n",
    "    print(s)    \n",
    " \n",
    "    s = \"\"\n",
    "    for card in cards:\n",
    "        s = s + \"\\t|       {}        |\".format(card.suit)\n",
    "    if hidden:\n",
    "        s += \"\\t|          *     |\"\n",
    "    print(s)    \n",
    " \n",
    "    s = \"\"\n",
    "    for card in cards:\n",
    "        s = s + \"\\t|                |\"\n",
    "    if hidden:\n",
    "        s += \"\\t|         *      |\"\n",
    "    print(s)    \n",
    " \n",
    "    s = \"\"\n",
    "    for card in cards:\n",
    "        s = s + \"\\t|                |\"\n",
    "    if hidden:\n",
    "        s += \"\\t|        *       |\"\n",
    "    print(s)\n",
    " \n",
    "    s = \"\"\n",
    "    for card in cards:\n",
    "        s = s + \"\\t|                |\"\n",
    "    if hidden:\n",
    "        s += \"\\t|                |\"\n",
    "    print(s)\n",
    " \n",
    "    s = \"\"\n",
    "    for card in cards:\n",
    "        s = s + \"\\t|                |\"\n",
    "    if hidden:\n",
    "        s += \"\\t|                |\"\n",
    "    print(s)    \n",
    " \n",
    "    s = \"\"\n",
    "    for card in cards:\n",
    "        if card.value == '10':\n",
    "            s = s + \"\\t|            {}  |\".format(card.value)\n",
    "        else:\n",
    "            s = s + \"\\t|            {}   |\".format(card.value)\n",
    "    if hidden:\n",
    "        s += \"\\t|        *       |\"        \n",
    "    print(s)    \n",
    "         \n",
    "    s = \"\"\n",
    "    for card in cards:\n",
    "        s = s + \"\\t|________________|\"\n",
    "    if hidden:\n",
    "        s += \"\\t|________________|\"\n",
    "    print(s)        \n",
    " \n",
    "    print()\n",
    " \n",
    " \n",
    "# Function for a single game of blackjack\n",
    "def blackjack_game(deck):\n",
    " \n",
    "    # Cards for both dealer and player\n",
    "    player_cards = []\n",
    "    dealer_cards = []\n",
    " \n",
    "    # Scores for both dealer and player\n",
    "    player_score = 0\n",
    "    dealer_score = 0\n",
    " \n",
    "    clear()\n",
    " \n",
    "    # Initial dealing for player and dealer\n",
    "    while len(player_cards) < 2:\n",
    " \n",
    "        # Randomly dealing a card\n",
    "        player_card = random.choice(deck)\n",
    "        player_cards.append(player_card)\n",
    "        deck.remove(player_card)\n",
    " \n",
    "        # Updating the player score\n",
    "        player_score += player_card.card_value\n",
    " \n",
    "        # In case both the cards are Ace, make the first ace value as 1 \n",
    "        if len(player_cards) == 2:\n",
    "            if player_cards[0].card_value == 11 and player_cards[1].card_value == 11:\n",
    "                player_cards[0].card_value = 1\n",
    "                player_score -= 10\n",
    " \n",
    "        # Print player cards and score      \n",
    "        print(\"PLAYER CARDS: \")\n",
    "        print_cards(player_cards, False)\n",
    "        print(\"PLAYER SCORE = \", player_score)\n",
    " \n",
    "        input()\n",
    " \n",
    "        # Randomly dealing a card\n",
    "        dealer_card = random.choice(deck)\n",
    "        dealer_cards.append(dealer_card)\n",
    "        deck.remove(dealer_card)\n",
    " \n",
    "        # Updating the dealer score\n",
    "        dealer_score += dealer_card.card_value\n",
    " \n",
    "        # Print dealer cards and score, keeping in mind to hide the second card and score\n",
    "        print(\"DEALER CARDS: \")\n",
    "        if len(dealer_cards) == 1:\n",
    "            print_cards(dealer_cards, False)\n",
    "            print(\"DEALER SCORE = \", dealer_score)\n",
    "        else:\n",
    "            print_cards(dealer_cards[:-1], True)    \n",
    "            print(\"DEALER SCORE = \", dealer_score - dealer_cards[-1].card_value)\n",
    " \n",
    " \n",
    "        # In case both the cards are Ace, make the second ace value as 1 \n",
    "        if len(dealer_cards) == 2:\n",
    "            if dealer_cards[0].card_value == 11 and dealer_cards[1].card_value == 11:\n",
    "                dealer_cards[1].card_value = 1\n",
    "                dealer_score -= 10\n",
    " \n",
    "        input()\n",
    " \n",
    "    # Player gets a blackjack   \n",
    "    if player_score == 21:\n",
    "        print(\"PLAYER HAS A BLACKJACK!!!!\")\n",
    "        print(\"PLAYER WINS!!!!\")\n",
    "        quit()\n",
    " \n",
    "    clear()\n",
    " \n",
    "    # Print dealer and player cards\n",
    "    print(\"DEALER CARDS: \")\n",
    "    print_cards(dealer_cards[:-1], True)\n",
    "    print(\"DEALER SCORE = \", dealer_score - dealer_cards[-1].card_value)\n",
    " \n",
    "    print() \n",
    " \n",
    "    print(\"PLAYER CARDS: \")\n",
    "    print_cards(player_cards, False)\n",
    "    print(\"PLAYER SCORE = \", player_score)\n",
    " \n",
    "    # Managing the player moves\n",
    "    while player_score < 21:\n",
    "        choice = input(\"Enter H to Hit or S to Stand : \")\n",
    " \n",
    "        # Sanity checks for player's choice\n",
    "        if len(choice) != 1 or (choice.upper() != 'H' and choice.upper() != 'S'):\n",
    "            clear()\n",
    "            print(\"Wrong choice!! Try Again\")\n",
    " \n",
    "        # If player decides to HIT\n",
    "        if choice.upper() == 'H':\n",
    " \n",
    "            # Dealing a new card\n",
    "            player_card = random.choice(deck)\n",
    "            player_cards.append(player_card)\n",
    "            deck.remove(player_card)\n",
    " \n",
    "            # Updating player score\n",
    "            player_score += player_card.card_value\n",
    " \n",
    "            # Updating player score in case player's card have ace in them\n",
    "            c = 0\n",
    "            while player_score > 21 and c < len(player_cards):\n",
    "                if player_cards[c].card_value == 11:\n",
    "                    player_cards[c].card_value = 1\n",
    "                    player_score -= 10\n",
    "                    c += 1\n",
    "                else:\n",
    "                    c += 1 \n",
    " \n",
    "            clear()     \n",
    " \n",
    "            # Print player and dealer cards\n",
    "            print(\"DEALER CARDS: \")\n",
    "            print_cards(dealer_cards[:-1], True)\n",
    "            print(\"DEALER SCORE = \", dealer_score - dealer_cards[-1].card_value)\n",
    " \n",
    "            print()\n",
    " \n",
    "            print(\"PLAYER CARDS: \")\n",
    "            print_cards(player_cards, False)\n",
    "            print(\"PLAYER SCORE = \", player_score)\n",
    "             \n",
    "        # If player decides to Stand\n",
    "        if choice.upper() == 'S':\n",
    "            break\n",
    " \n",
    " \n",
    "    clear() \n",
    " \n",
    "    # Print player and dealer cards\n",
    "    print(\"PLAYER CARDS: \")\n",
    "    print_cards(player_cards, False)\n",
    "    print(\"PLAYER SCORE = \", player_score)\n",
    " \n",
    "    print()\n",
    "    print(\"DEALER IS REVEALING THE CARDS....\")\n",
    " \n",
    "    print(\"DEALER CARDS: \")\n",
    "    print_cards(dealer_cards, False)\n",
    "    print(\"DEALER SCORE = \", dealer_score)\n",
    " \n",
    "    # Check if player has a Blackjack\n",
    "    if player_score == 21:\n",
    "        print(\"PLAYER HAS A BLACKJACK\")\n",
    "        quit()\n",
    " \n",
    "    # Check if player busts\n",
    "    if player_score > 21:\n",
    "        print(\"PLAYER BUSTED!!! GAME OVER!!!\")\n",
    "        quit()\n",
    " \n",
    "    input() \n",
    " \n",
    "    # Managing the dealer moves\n",
    "    while dealer_score < 17:\n",
    "        clear() \n",
    " \n",
    "        print(\"DEALER DECIDES TO HIT.....\")\n",
    " \n",
    "        # Dealing card for dealer\n",
    "        dealer_card = random.choice(deck)\n",
    "        dealer_cards.append(dealer_card)\n",
    "        deck.remove(dealer_card)\n",
    " \n",
    "        # Updating the dealer's score\n",
    "        dealer_score += dealer_card.card_value\n",
    " \n",
    "        # Updating player score in case player's card have ace in them\n",
    "        c = 0\n",
    "        while dealer_score > 21 and c < len(dealer_cards):\n",
    "            if dealer_cards[c].card_value == 11:\n",
    "                dealer_cards[c].card_value = 1\n",
    "                dealer_score -= 10\n",
    "                c += 1\n",
    "            else:\n",
    "                c += 1\n",
    " \n",
    "        # print player and dealer cards\n",
    "        print(\"PLAYER CARDS: \")\n",
    "        print_cards(player_cards, False)\n",
    "        print(\"PLAYER SCORE = \", player_score)\n",
    " \n",
    "        print()\n",
    " \n",
    "        print(\"DEALER CARDS: \")\n",
    "        print_cards(dealer_cards, False)\n",
    "        print(\"DEALER SCORE = \", dealer_score)      \n",
    " \n",
    "        input()\n",
    " \n",
    "    # Dealer busts\n",
    "    if dealer_score > 21:        \n",
    "        print(\"DEALER BUSTED!!! YOU WIN!!!\") \n",
    "        quit()  \n",
    " \n",
    "    # Dealer gets a blackjack\n",
    "    if dealer_score == 21:\n",
    "        print(\"DEALER HAS A BLACKJACK!!! PLAYER LOSES\")\n",
    "        quit()\n",
    " \n",
    "    # TIE Game\n",
    "    if dealer_score == player_score:\n",
    "        print(\"TIE GAME!!!!\")\n",
    " \n",
    "    # Player Wins\n",
    "    elif player_score > dealer_score:\n",
    "        print(\"PLAYER WINS!!!\")                 \n",
    " \n",
    "    # Dealer Wins\n",
    "    else:\n",
    "        print(\"DEALER WINS!!!\")                 \n",
    " \n",
    "if __name__ == '__main__':\n",
    " \n",
    "    # The type of suit\n",
    "    suits = [\"Spades\", \"Hearts\", \"Clubs\", \"Diamonds\"]\n",
    " \n",
    "    # The suit value \n",
    "    suits_values = {\"Spades\":\"\\u2664\", \"Hearts\":\"\\u2661\", \"Clubs\": \"\\u2667\", \"Diamonds\": \"\\u2662\"}\n",
    " \n",
    "    # The type of card\n",
    "    cards = [\"A\", \"2\", \"3\", \"4\", \"5\", \"6\", \"7\", \"8\", \"9\", \"10\", \"J\", \"Q\", \"K\"]\n",
    " \n",
    "    # The card value\n",
    "    cards_values = {\"A\": 11, \"2\":2, \"3\":3, \"4\":4, \"5\":5, \"6\":6, \"7\":7, \"8\":8, \"9\":9, \"10\":10, \"J\":10, \"Q\":10, \"K\":10}\n",
    " \n",
    "    # The deck of cards\n",
    "    deck = []\n",
    " \n",
    "    # Loop for every type of suit\n",
    "    for suit in suits:\n",
    " \n",
    "        # Loop for every type of card in a suit\n",
    "        for card in cards:\n",
    " \n",
    "            # Adding card to the deck\n",
    "            deck.append(Card(suits_values[suit], card, cards_values[card]))\n",
    "     \n",
    "    blackjack_game(deck)  "
   ]
  },
  {
   "cell_type": "code",
   "execution_count": 10,
   "id": "0f89ff63-f430-4401-9131-02f11396f913",
   "metadata": {},
   "outputs": [
    {
     "name": "stdout",
     "output_type": "stream",
     "text": [
      "Cards Player Has: [('2', 'Spades'), ('2', 'Clubs')]\n",
      "Score Of The Player: 4\n",
      "\n",
      "\n"
     ]
    },
    {
     "name": "stdin",
     "output_type": "stream",
     "text": [
      "What do you want? [\"play\" to request another card, \"stop\" to stop]:  stop\n"
     ]
    },
    {
     "name": "stdout",
     "output_type": "stream",
     "text": [
      "Cards Dealer Has: [('9', 'Clubs'), ('7', 'Clubs'), ('9', 'Hearts')]\n",
      "Score Of The Dealer: 25\n",
      "\n",
      "\n",
      "Cards Dealer Has: [('9', 'Clubs'), ('7', 'Clubs'), ('9', 'Hearts')]\n",
      "Score Of The Dealer: 25\n",
      "Cards Player Has: [('2', 'Spades'), ('2', 'Clubs')]\n",
      "Score Of The Player: 4\n",
      "Player wins (Dealer Loss Because Dealer Score is exceeding 21)\n"
     ]
    }
   ],
   "source": [
    "import random \n",
    "  \n",
    "card_categories = ['Hearts', 'Diamonds', 'Clubs', 'Spades'] \n",
    "cards_list = ['Ace', '2', '3', '4', '5', '6', '7', '8', '9', '10', 'Jack', 'Queen', 'King'] \n",
    "deck = [(card, category) for category in card_categories for card in cards_list] \n",
    "  \n",
    "def card_value(card): \n",
    "    if card[0] in ['Jack', 'Queen', 'King']: \n",
    "        return 10\n",
    "    elif card[0] == 'Ace': \n",
    "        return 11\n",
    "    else: \n",
    "        return int(card[0]) \n",
    "  \n",
    "random.shuffle(deck) \n",
    "player_card = [deck.pop(), deck.pop()] \n",
    "dealer_card = [deck.pop(), deck.pop()] \n",
    "  \n",
    "while True: \n",
    "    player_score = sum(card_value(card) for card in player_card) \n",
    "    dealer_score = sum(card_value(card) for card in dealer_card) \n",
    "    print(\"Cards Player Has:\", player_card) \n",
    "    print(\"Score Of The Player:\", player_score) \n",
    "    print(\"\\n\") \n",
    "    choice = input('What do you want? [\"play\" to request another card, \"stop\" to stop]: ').lower() \n",
    "    if choice == \"play\": \n",
    "        new_card = deck.pop() \n",
    "        player_card.append(new_card) \n",
    "    elif choice == \"stop\": \n",
    "        break\n",
    "    else: \n",
    "        print(\"Invalid choice. Please try again.\") \n",
    "        continue\n",
    "  \n",
    "    if player_score > 21: \n",
    "        print(\"Cards Dealer Has:\", dealer_card) \n",
    "        print(\"Score Of The Dealer:\", dealer_score) \n",
    "        print(\"Cards Player Has:\", player_card) \n",
    "        print(\"Score Of The Player:\", player_score) \n",
    "        print(\"Dealer wins (Player Loss Because Player Score is exceeding 21)\") \n",
    "        break\n",
    "  \n",
    "while dealer_score < 17: \n",
    "    new_card = deck.pop() \n",
    "    dealer_card.append(new_card) \n",
    "    dealer_score += card_value(new_card) \n",
    "  \n",
    "print(\"Cards Dealer Has:\", dealer_card) \n",
    "print(\"Score Of The Dealer:\", dealer_score) \n",
    "print(\"\\n\") \n",
    "  \n",
    "if dealer_score > 21: \n",
    "    print(\"Cards Dealer Has:\", dealer_card) \n",
    "    print(\"Score Of The Dealer:\", dealer_score) \n",
    "    print(\"Cards Player Has:\", player_card) \n",
    "    print(\"Score Of The Player:\", player_score) \n",
    "    print(\"Player wins (Dealer Loss Because Dealer Score is exceeding 21)\") \n",
    "elif player_score > dealer_score: \n",
    "    print(\"Cards Dealer Has:\", dealer_card) \n",
    "    print(\"Score Of The Dealer:\", dealer_score) \n",
    "    print(\"Cards Player Has:\", player_card) \n",
    "    print(\"Score Of The Player:\", player_score) \n",
    "    print(\"Player wins (Player Has High Score than Dealer)\") \n",
    "elif dealer_score > player_score: \n",
    "    print(\"Cards Dealer Has:\", dealer_card) \n",
    "    print(\"Score Of The Dealer:\", dealer_score) \n",
    "    print(\"Cards Player Has:\", player_card) \n",
    "    print(\"Score Of The Player:\", player_score) \n",
    "    print(\"Dealer wins (Dealer Has High Score than Player)\") \n",
    "else: \n",
    "    print(\"Cards Dealer Has:\", dealer_card) \n",
    "    print(\"Score Of The Dealer:\", dealer_score) \n",
    "    print(\"Cards Player Has:\", player_card) \n",
    "    print(\"Score Of The Player:\", player_score) \n",
    "    print(\"It's a tie.\")"
   ]
  },
  {
   "cell_type": "markdown",
   "id": "b079258b-e5c9-431d-836f-7f4531f2f07e",
   "metadata": {},
   "source": [
    " 40. Write a program that generates the prime factors of a given number using trial division."
   ]
  },
  {
   "cell_type": "code",
   "execution_count": 12,
   "id": "2b435266-1909-45e3-b17d-39c6cc348a55",
   "metadata": {},
   "outputs": [
    {
     "name": "stdout",
     "output_type": "stream",
     "text": [
      "composite\n"
     ]
    }
   ],
   "source": [
    "def traildivision(n):\n",
    "    i=2\n",
    "    k=int(n**0.5)\n",
    "    while (i<=k):\n",
    "        if(n%i==0):\n",
    "            return 0\n",
    "        i+=1\n",
    "    return 1\n",
    "if __name__=='__main__':\n",
    "    n=49\n",
    "    p=traildivision(n)\n",
    "if p:\n",
    "    print('prime')\n",
    "else:\n",
    "    print('composite')"
   ]
  },
  {
   "cell_type": "code",
   "execution_count": null,
   "id": "71451eb5-4694-4a0f-a65b-419f548e0ca7",
   "metadata": {},
   "outputs": [],
   "source": []
  }
 ],
 "metadata": {
  "kernelspec": {
   "display_name": "Python 3 (ipykernel)",
   "language": "python",
   "name": "python3"
  },
  "language_info": {
   "codemirror_mode": {
    "name": "ipython",
    "version": 3
   },
   "file_extension": ".py",
   "mimetype": "text/x-python",
   "name": "python",
   "nbconvert_exporter": "python",
   "pygments_lexer": "ipython3",
   "version": "3.12.4"
  }
 },
 "nbformat": 4,
 "nbformat_minor": 5
}
